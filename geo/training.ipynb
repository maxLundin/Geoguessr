{
 "cells": [
  {
   "cell_type": "code",
   "execution_count": 1,
   "id": "ebd555a2",
   "metadata": {
    "pycharm": {
     "name": "#%%\n"
    }
   },
   "outputs": [],
   "source": [
    "from geo.model.geoCNN import GeoGuessrCNN\n",
    "\n",
    "from geo.model.LossPrintingCallback import LossAndErrorPrintingCallback\n",
    "from geo.data.utils import dataGen\n",
    "\n",
    "from matplotlib import pyplot as plt"
   ]
  },
  {
   "cell_type": "code",
   "execution_count": 1,
   "id": "021d063b",
   "metadata": {
    "pycharm": {
     "name": "#%%\n"
    }
   },
   "outputs": [],
   "source": [
    "import os.path\n",
    "\n",
    "directory = \"data/geoguessr_filtered/\"\n",
    "\n",
    "filenames = []\n",
    "\n",
    "for filename in os.listdir(directory):\n",
    "    f = os.path.join(directory, filename)\n",
    "    if (os.path.isdir(f)):\n",
    "        i = 0\n",
    "        for image in os.listdir(f):\n",
    "            filenames.append(f\"{f}/{image}\")\n",
    "            i += 1"
   ]
  },
  {
   "cell_type": "code",
   "execution_count": 81,
   "id": "f94f687b",
   "metadata": {
    "pycharm": {
     "name": "#%%\n"
    }
   },
   "outputs": [
    {
     "name": "stdout",
     "output_type": "stream",
     "text": [
      "['Curacao/canvas_1630120063.jpg', 'Jersey/canvas_1629737742.jpg', 'Poland/canvas_1629567517.jpg', 'Poland/canvas_1629683896.jpg', 'Poland/canvas_1629967114.jpg', 'Poland/canvas_1630039047.jpg', 'Poland/canvas_1630282889.jpg', 'Aland/canvas_1630052504.jpg', 'Albania/canvas_1629780994.jpg', 'American Samoa/canvas_1629271395.jpg', 'Andorra/canvas_1630067919.jpg', 'Antarctica/canvas_1629620842.jpg', 'Argentina/canvas_1629545914.jpg', 'Argentina/canvas_1629849027.jpg', 'Argentina/canvas_1630122915.jpg', 'Argentina/canvas_1630216469.jpg', 'Armenia/canvas_1629782851.jpg', 'Australia/canvas_1629408293.jpg', 'Australia/canvas_1629502200.jpg', 'Australia/canvas_1629765924.jpg', 'Australia/canvas_1629825868.jpg', 'Australia/canvas_1629835034.jpg', 'Australia/canvas_1629913595.jpg', 'Australia/canvas_1629928836.jpg', 'Australia/canvas_1629932639.jpg', 'Australia/canvas_1629939725.jpg', 'Austria/canvas_1630046566.jpg', 'Austria/canvas_1630135427.jpg', 'Bangladesh/canvas_1630107607.jpg', 'Belarus/canvas_1629851649.jpg', 'Belgium/canvas_1629388065.jpg', 'Belgium/canvas_1630211411.jpg', 'Bermuda/canvas_1629444986.jpg', 'Bhutan/canvas_1630001705.jpg', 'Bolivia/canvas_1629348652.jpg', 'Botswana/canvas_1630220415.jpg', 'Brazil/canvas_1629279864.jpg', 'Brazil/canvas_1629283703.jpg', 'Brazil/canvas_1629474190.jpg', 'Brazil/canvas_1629825813.jpg', 'Brazil/canvas_1629836771.jpg', 'Brazil/canvas_1629847379.jpg', 'Brazil/canvas_1629906319.jpg', 'Brazil/canvas_1629908228.jpg', 'Brazil/canvas_1629911127.jpg', 'Brazil/canvas_1629912945.jpg', 'Brazil/canvas_1629939999.jpg', 'Brazil/canvas_1630132551.jpg', 'Bulgaria/canvas_1629309331.jpg', 'Bulgaria/canvas_1629908628.jpg', 'Cambodia/canvas_1629670723.jpg', 'Canada/canvas_1629315051.jpg', 'Canada/canvas_1629592788.jpg', 'Canada/canvas_1629594521.jpg', 'Canada/canvas_1629855931.jpg', 'Canada/canvas_1629858506.jpg', 'Canada/canvas_1629968231.jpg', 'Canada/canvas_1629999825.jpg', 'Chile/canvas_1629549588.jpg', 'Chile/canvas_1630120664.jpg', 'China/canvas_1629748734.jpg', 'Colombia/canvas_1630048971.jpg', 'Colombia/canvas_1630059608.jpg', 'Costa Rica/canvas_1629735074.jpg', 'Croatia/canvas_1630219001.jpg', 'Jordan/canvas_1630282461.jpg', 'Kenya/canvas_1629592975.jpg', 'Kyrgyzstan/canvas_1630252774.jpg', 'Laos/canvas_1629992261.jpg', 'Latvia/canvas_1629450678.jpg', 'Lebanon/canvas_1629474915.jpg', 'Lesotho/canvas_1630283679.jpg', 'Lithuania/canvas_1630038419.jpg', 'Luxembourg/canvas_1629527055.jpg', 'Macao/canvas_1629966880.jpg', 'Madagascar/canvas_1629669765.jpg', 'Malaysia/canvas_1630058737.jpg', 'Malaysia/canvas_1630091552.jpg', 'Malaysia/canvas_1630212124.jpg', 'Malta/canvas_1629326565.jpg', 'Martinique/canvas_1630014096.jpg', 'Mexico/canvas_1629709257.jpg', 'Mexico/canvas_1629738208.jpg', 'Mexico/canvas_1629745392.jpg', 'Mexico/canvas_1629858173.jpg', 'Mexico/canvas_1630018443.jpg', 'Monaco/canvas_1630063975.jpg', 'Mongolia/canvas_1629716047.jpg', 'Montenegro/canvas_1630107135.jpg', 'Mozambique/canvas_1629929152.jpg', 'Myanmar/canvas_1629852883.jpg', 'Nepal/canvas_1630276271.jpg', 'Netherlands/canvas_1629521177.jpg', 'Netherlands/canvas_1629706429.jpg', 'Netherlands/canvas_1629747460.jpg', 'New Zealand/canvas_1629512369.jpg', 'New Zealand/canvas_1629551531.jpg', 'New Zealand/canvas_1629588507.jpg', 'Nigeria/canvas_1630211027.jpg', 'North Macedonia/canvas_1630091413.jpg', 'Northern Mariana Islands/canvas_1629278601.jpg', 'Norway/canvas_1629427195.jpg', 'Norway/canvas_1629542189.jpg', 'Norway/canvas_1629747082.jpg', 'Norway/canvas_1630079936.jpg', 'Pakistan/canvas_1630000993.jpg', 'Palestine/canvas_1629403761.jpg', 'Paraguay/canvas_1629908268.jpg', 'Peru/canvas_1630079267.jpg', 'Peru/canvas_1630279380.jpg', 'Philippines/canvas_1629822842.jpg', 'Philippines/canvas_1629850524.jpg', 'Pitcairn Islands/canvas_1629572931.jpg', 'Czechia/canvas_1630083804.jpg', 'Czechia/canvas_1630089514.jpg', 'Denmark/canvas_1629849021.jpg', 'Dominican Republic/canvas_1629425790.jpg', 'Ecuador/canvas_1630086999.jpg', 'Egypt/canvas_1629869324.jpg', 'Estonia/canvas_1630015919.jpg', 'Eswatini/canvas_1629939967.jpg', 'Faroe Islands/canvas_1630013777.jpg', 'Finland/canvas_1629703114.jpg', 'Finland/canvas_1629748902.jpg', 'Finland/canvas_1629769658.jpg', 'Finland/canvas_1629785483.jpg', 'Finland/canvas_1630042739.jpg', 'Finland/canvas_1630110120.jpg', 'France/canvas_1629428441.jpg', 'France/canvas_1629595064.jpg', 'France/canvas_1629714184.jpg', 'France/canvas_1629740965.jpg', 'France/canvas_1629767888.jpg', 'France/canvas_1629785749.jpg', 'France/canvas_1629836167.jpg', 'France/canvas_1630009087.jpg', 'France/canvas_1630030677.jpg', 'France/canvas_1630041998.jpg', 'France/canvas_1630043816.jpg', 'France/canvas_1630044711.jpg', 'France/canvas_1630093371.jpg', 'France/canvas_1630108131.jpg', 'France/canvas_1630216681.jpg', 'France/canvas_1630282593.jpg', 'France/canvas_1630283666.jpg', 'France/canvas_1630285286.jpg', 'Germany/canvas_1629394103.jpg', 'Germany/canvas_1629596151.jpg', 'Germany/canvas_1629875188.jpg', 'Germany/canvas_1630122612.jpg', 'Ghana/canvas_1629972448.jpg', 'Gibraltar/canvas_1630269350.jpg', 'Greece/canvas_1629397188.jpg', 'Greece/canvas_1629426639.jpg', 'Greenland/canvas_1629262635.jpg', 'Guam/canvas_1629355636.jpg', 'Guatemala/canvas_1630215527.jpg', 'Hong Kong/canvas_1629914139.jpg', 'Hungary/canvas_1629348411.jpg', 'Iceland/canvas_1629968729.jpg', 'India/canvas_1629865010.jpg', 'Indonesia/canvas_1629479073.jpg', 'Indonesia/canvas_1630083482.jpg', 'Iraq/canvas_1629846796.jpg', 'Ireland/canvas_1629408078.jpg', 'Ireland/canvas_1629749558.jpg', 'Isle of Man/canvas_1629500370.jpg', 'Israel/canvas_1630085794.jpg', 'Israel/canvas_1630280927.jpg', 'Italy/canvas_1629533260.jpg', 'Italy/canvas_1629670643.jpg', 'Italy/canvas_1629703443.jpg', 'Italy/canvas_1629765475.jpg', 'Japan/canvas_1629260090.jpg', 'Japan/canvas_1629324654.jpg', 'Japan/canvas_1629399503.jpg', 'Japan/canvas_1629428217.jpg', 'Japan/canvas_1629498589.jpg', 'Japan/canvas_1629509519.jpg', 'Japan/canvas_1629535284.jpg', 'Japan/canvas_1629538319.jpg', 'Japan/canvas_1629687061.jpg', 'Japan/canvas_1629698128.jpg', 'Japan/canvas_1629709643.jpg', 'Japan/canvas_1629750162.jpg', 'Japan/canvas_1629973056.jpg', 'Japan/canvas_1629991557.jpg', 'Japan/canvas_1629992051.jpg', 'Japan/canvas_1629994129.jpg', 'Japan/canvas_1630020009.jpg', 'Japan/canvas_1630103831.jpg', 'Japan/canvas_1630142164.jpg', 'Japan/canvas_1630143268.jpg', 'Portugal/canvas_1629823280.jpg', 'Portugal/canvas_1629999812.jpg', 'Puerto Rico/canvas_1629313041.jpg', 'Qatar/canvas_1630079605.jpg', 'Reunion/canvas_1630061489.jpg', 'Romania/canvas_1629302228.jpg', 'Romania/canvas_1629304736.jpg', 'Russia/canvas_1629400103.jpg', 'Russia/canvas_1629684607.jpg', 'Russia/canvas_1629739137.jpg', 'Russia/canvas_1629758236.jpg', 'Russia/canvas_1629854652.jpg', 'Russia/canvas_1629899835.jpg', 'Russia/canvas_1629905336.jpg', 'Russia/canvas_1629933091.jpg', 'Russia/canvas_1630273256.jpg', 'San Marino/canvas_1629355746.jpg', 'Senegal/canvas_1630042691.jpg', 'Serbia/canvas_1630047502.jpg', 'Singapore/canvas_1629732658.jpg', 'Singapore/canvas_1629739299.jpg', 'Singapore/canvas_1629843791.jpg', 'Singapore/canvas_1630093223.jpg', 'Slovakia/canvas_1629834042.jpg', 'Slovenia/canvas_1629701555.jpg', 'South Africa/canvas_1629315572.jpg', 'South Africa/canvas_1629448880.jpg', 'South Africa/canvas_1629474607.jpg', 'South Africa/canvas_1629546355.jpg', 'South Africa/canvas_1629938355.jpg', 'South Africa/canvas_1630024797.jpg', 'South Georgia and South Sandwich Islands/canvas_1629684166.jpg', 'South Korea/canvas_1629835206.jpg', 'South Korea/canvas_1630122974.jpg', 'South Sudan/canvas_1629508853.jpg', 'Spain/canvas_1629318198.jpg', 'Spain/canvas_1629393575.jpg', 'Spain/canvas_1629525789.jpg', 'Spain/canvas_1629770029.jpg', 'Spain/canvas_1629908567.jpg', 'Spain/canvas_1630085506.jpg', 'Sri Lanka/canvas_1629919803.jpg', 'Svalbard and Jan Mayen/canvas_1629930585.jpg', 'Sweden/canvas_1629302664.jpg', 'Sweden/canvas_1629502368.jpg', 'Sweden/canvas_1629924933.jpg', 'Sweden/canvas_1630108717.jpg', 'Switzerland/canvas_1629305513.jpg', 'Taiwan/canvas_1629407078.jpg', 'Taiwan/canvas_1629481720.jpg', 'Taiwan/canvas_1629768888.jpg', 'Tanzania/canvas_1629391391.jpg', 'Thailand/canvas_1629843392.jpg', 'Thailand/canvas_1629867882.jpg', 'Thailand/canvas_1629929100.jpg', 'Thailand/canvas_1630100669.jpg', 'Thailand/canvas_1630283815.jpg', 'Tunisia/canvas_1629389566.jpg', 'Turkey/canvas_1629323628.jpg', 'Turkey/canvas_1629834914.jpg', 'Uganda/canvas_1629762082.jpg', 'Ukraine/canvas_1629917603.jpg', 'United Arab Emirates/canvas_1630122328.jpg', 'United Kingdom/canvas_1629312293.jpg', 'United Kingdom/canvas_1629547746.jpg', 'United Kingdom/canvas_1629596207.jpg', 'United Kingdom/canvas_1629697999.jpg', 'United Kingdom/canvas_1629711845.jpg', 'United Kingdom/canvas_1629721706.jpg', 'United Kingdom/canvas_1629765905.jpg', 'United Kingdom/canvas_1629767508.jpg', 'United Kingdom/canvas_1629822835.jpg', 'United Kingdom/canvas_1629931156.jpg', 'United Kingdom/canvas_1630050904.jpg', 'United Kingdom/canvas_1630103011.jpg', 'United Kingdom/canvas_1630282221.jpg', 'United States/canvas_1629709830.jpg', 'United States/canvas_1629875332.jpg', 'United States/canvas_1629257956.jpg', 'United States/canvas_1629266029.jpg', 'United States/canvas_1629279803.jpg', 'United States/canvas_1629324897.jpg', 'United States/canvas_1629329791.jpg', 'United States/canvas_1629403369.jpg', 'United States/canvas_1629406911.jpg', 'United States/canvas_1629413605.jpg', 'United States/canvas_1629417744.jpg', 'United States/canvas_1629429145.jpg', 'United States/canvas_1629503790.jpg', 'United States/canvas_1629507339.jpg', 'United States/canvas_1629510572.jpg', 'United States/canvas_1629552207.jpg', 'United States/canvas_1629567466.jpg', 'United States/canvas_1629722133.jpg', 'United States/canvas_1629731277.jpg', 'United States/canvas_1629732164.jpg', 'United States/canvas_1629746271.jpg', 'United States/canvas_1629761680.jpg', 'United States/canvas_1629772397.jpg', 'United States/canvas_1629773104.jpg', 'United States/canvas_1629782673.jpg', 'United States/canvas_1629825710.jpg', 'United States/canvas_1629825985.jpg', 'United States/canvas_1629833552.jpg', 'United States/canvas_1629845526.jpg', 'United States/canvas_1629846166.jpg', 'United States/canvas_1629851898.jpg', 'United States/canvas_1629856756.jpg', 'United States/canvas_1629906214.jpg', 'United States/canvas_1629907142.jpg', 'United States/canvas_1629919975.jpg', 'United States/canvas_1629924199.jpg', 'United States/canvas_1629926524.jpg', 'United States/canvas_1629955870.jpg', 'United States/canvas_1629956277.jpg', 'United States/canvas_1629963469.jpg', 'United States/canvas_1629970035.jpg', 'United States/canvas_1629971278.jpg', 'United States/canvas_1629999014.jpg', 'United States/canvas_1630004047.jpg', 'United States/canvas_1630005013.jpg', 'United States/canvas_1630018485.jpg', 'United States/canvas_1630020302.jpg', 'United States/canvas_1630022947.jpg', 'United States/canvas_1630030313.jpg', 'United States/canvas_1630030740.jpg', 'United States/canvas_1630058418.jpg', 'United States/canvas_1630061032.jpg', 'United States/canvas_1630068844.jpg', 'United States/canvas_1630082629.jpg', 'United States/canvas_1630090276.jpg', 'United States/canvas_1630100309.jpg', 'United States/canvas_1630107819.jpg', 'United States/canvas_1630212510.jpg', 'United States/canvas_1630266268.jpg', 'United States/canvas_1630275269.jpg', 'United States/canvas_1630283922.jpg', 'Uruguay/canvas_1629739263.jpg', 'US Virgin Islands/canvas_1630222670.jpg', 'Venezuela/canvas_1629523615.jpg', 'Vietnam/canvas_1629326392.jpg']\n"
     ]
    }
   ],
   "source": [
    "fn1 = list(map(lambda x: \"/\".join(x.split(\"/\")[2:]), filenames))\n",
    "print(fn1)"
   ]
  },
  {
   "cell_type": "code",
   "execution_count": 3,
   "id": "e5658ae7",
   "metadata": {
    "pycharm": {
     "name": "#%%\n"
    }
   },
   "outputs": [
    {
     "name": "stdout",
     "output_type": "stream",
     "text": [
      "124\n"
     ]
    },
    {
     "data": {
      "text/plain": "{'Germany': 0,\n 'Gibraltar': 1,\n 'Antarctica': 2,\n 'Armenia': 3,\n 'Luxembourg': 4,\n 'Vietnam': 5,\n 'South Georgia and South Sandwich Islands': 6,\n 'Paraguay': 7,\n 'Japan': 8,\n 'Lesotho': 9,\n 'Iceland': 10,\n 'Hong Kong': 11,\n 'Ireland': 12,\n 'Spain': 13,\n 'Botswana': 14,\n 'Ghana': 15,\n 'Lithuania': 16,\n 'Brazil': 17,\n 'Philippines': 18,\n 'India': 19,\n 'Greece': 20,\n 'New Zealand': 21,\n 'Denmark': 22,\n 'Guam': 23,\n 'Laos': 24,\n 'Kyrgyzstan': 25,\n 'Aland': 26,\n 'Madagascar': 27,\n 'Colombia': 28,\n 'France': 29,\n 'Montenegro': 30,\n 'Croatia': 31,\n 'San Marino': 32,\n 'Hungary': 33,\n 'Nigeria': 34,\n 'Latvia': 35,\n 'Lebanon': 36,\n 'Indonesia': 37,\n 'Malta': 38,\n 'Pakistan': 39,\n 'Puerto Rico': 40,\n 'Uganda': 41,\n 'Netherlands': 42,\n 'Egypt': 43,\n 'South Sudan': 44,\n 'Italy': 45,\n 'Isle of Man': 46,\n 'Czechia': 47,\n 'Qatar': 48,\n 'Switzerland': 49,\n 'Estonia': 50,\n 'Bolivia': 51,\n 'Eswatini': 52,\n 'Guatemala': 53,\n 'American Samoa': 54,\n 'Bhutan': 55,\n 'United Kingdom': 56,\n 'Australia': 57,\n 'North Macedonia': 58,\n 'Nepal': 59,\n 'Costa Rica': 60,\n 'Taiwan': 61,\n 'South Korea': 62,\n 'Kenya': 63,\n 'Ecuador': 64,\n 'Venezuela': 65,\n 'Belarus': 66,\n 'Singapore': 67,\n 'Senegal': 68,\n 'Canada': 69,\n 'Jordan': 70,\n 'Russia': 71,\n 'Thailand': 72,\n 'Ukraine': 73,\n 'Norway': 74,\n 'Curacao': 75,\n 'Turkey': 76,\n 'South Africa': 77,\n 'Palestine': 78,\n 'Sweden': 79,\n 'Sri Lanka': 80,\n 'US Virgin Islands': 81,\n 'Austria': 82,\n 'Belgium': 83,\n 'Peru': 84,\n 'Svalbard and Jan Mayen': 85,\n 'Tunisia': 86,\n 'Poland': 87,\n 'Tanzania': 88,\n 'Greenland': 89,\n 'Finland': 90,\n 'Reunion': 91,\n 'Mexico': 92,\n 'Mozambique': 93,\n 'Romania': 94,\n 'Faroe Islands': 95,\n 'Malaysia': 96,\n 'Jersey': 97,\n 'Cambodia': 98,\n 'Israel': 99,\n 'China': 100,\n 'Monaco': 101,\n 'United Arab Emirates': 102,\n 'Iraq': 103,\n 'United States': 104,\n 'Uruguay': 105,\n 'Slovakia': 106,\n 'Slovenia': 107,\n 'Argentina': 108,\n 'Macao': 109,\n 'Northern Mariana Islands': 110,\n 'Bulgaria': 111,\n 'Albania': 112,\n 'Andorra': 113,\n 'Chile': 114,\n 'Portugal': 115,\n 'Dominican Republic': 116,\n 'Martinique': 117,\n 'Mongolia': 118,\n 'Serbia': 119,\n 'Bangladesh': 120,\n 'Pitcairn Islands': 121,\n 'Bermuda': 122,\n 'Myanmar': 123}"
     },
     "execution_count": 3,
     "metadata": {},
     "output_type": "execute_result"
    }
   ],
   "source": [
    "classes = list(set(map(lambda x: x.split(\"/\")[2], filenames)))\n",
    "numclasses = len(classes)\n",
    "print(numclasses)\n",
    "classes = dict(zip(classes, range(numclasses)))\n",
    "classes"
   ]
  },
  {
   "cell_type": "code",
   "execution_count": 84,
   "id": "11946af9",
   "metadata": {
    "pycharm": {
     "name": "#%%\n"
    }
   },
   "outputs": [],
   "source": [
    "it = dataGen(fn1, directory)"
   ]
  },
  {
   "cell_type": "code",
   "execution_count": 85,
   "id": "48c52b32",
   "metadata": {
    "pycharm": {
     "name": "#%%\n"
    }
   },
   "outputs": [],
   "source": [
    "X, y = next(it)"
   ]
  },
  {
   "cell_type": "code",
   "execution_count": 86,
   "id": "767f7dae",
   "metadata": {
    "pycharm": {
     "name": "#%%\n"
    }
   },
   "outputs": [
    {
     "data": {
      "text/plain": "(10, 124)"
     },
     "execution_count": 86,
     "metadata": {},
     "output_type": "execute_result"
    }
   ],
   "source": [
    "outputShape = y.shape\n",
    "outputShape"
   ]
  },
  {
   "cell_type": "code",
   "execution_count": 87,
   "id": "413c5a54",
   "metadata": {
    "pycharm": {
     "name": "#%%\n"
    }
   },
   "outputs": [
    {
     "data": {
      "text/plain": "array([[0., 0., 0., ..., 0., 0., 0.],\n       [0., 0., 0., ..., 0., 0., 0.],\n       [0., 0., 0., ..., 0., 0., 0.],\n       ...,\n       [0., 0., 0., ..., 0., 0., 0.],\n       [0., 0., 0., ..., 0., 0., 0.],\n       [1., 0., 0., ..., 0., 0., 0.]], dtype=float32)"
     },
     "execution_count": 87,
     "metadata": {},
     "output_type": "execute_result"
    }
   ],
   "source": [
    "y"
   ]
  },
  {
   "cell_type": "code",
   "execution_count": 88,
   "id": "0f0cd504",
   "metadata": {
    "pycharm": {
     "name": "#%%\n"
    }
   },
   "outputs": [
    {
     "data": {
      "text/plain": "(1, 662, 1536, 3)"
     },
     "execution_count": 88,
     "metadata": {},
     "output_type": "execute_result"
    }
   ],
   "source": [
    "inputShape = X.shape\n",
    "inputShape = (1, *inputShape[1:])\n",
    "inputShape"
   ]
  },
  {
   "cell_type": "code",
   "execution_count": 89,
   "id": "47331dc8",
   "metadata": {
    "pycharm": {
     "name": "#%%\n"
    }
   },
   "outputs": [
    {
     "data": {
      "text/plain": "array([[[[119, 135, 160],\n         [119, 135, 160],\n         [119, 135, 160],\n         ...,\n         [203, 204, 208],\n         [203, 204, 208],\n         [203, 204, 208]],\n\n        [[119, 135, 160],\n         [119, 135, 160],\n         [119, 135, 160],\n         ...,\n         [203, 204, 208],\n         [203, 204, 208],\n         [203, 204, 208]],\n\n        [[119, 135, 160],\n         [119, 135, 160],\n         [119, 135, 160],\n         ...,\n         [203, 204, 208],\n         [203, 204, 208],\n         [203, 204, 208]],\n\n        ...,\n\n        [[117, 114, 109],\n         [118, 115, 110],\n         [120, 117, 112],\n         ...,\n         [ 55,  51,  48],\n         [ 55,  51,  48],\n         [ 55,  51,  48]],\n\n        [[123, 120, 115],\n         [124, 121, 116],\n         [125, 122, 117],\n         ...,\n         [ 54,  50,  47],\n         [ 54,  50,  47],\n         [ 54,  50,  47]],\n\n        [[128, 125, 120],\n         [128, 125, 120],\n         [128, 125, 120],\n         ...,\n         [102,  98,  95],\n         [102,  98,  95],\n         [102,  98,  95]]],\n\n\n       [[[215, 221, 233],\n         [216, 222, 234],\n         [218, 222, 233],\n         ...,\n         [144, 154, 163],\n         [144, 154, 163],\n         [144, 154, 163]],\n\n        [[214, 220, 232],\n         [214, 220, 232],\n         [216, 220, 232],\n         ...,\n         [144, 154, 163],\n         [144, 154, 163],\n         [144, 154, 163]],\n\n        [[211, 217, 231],\n         [211, 217, 229],\n         [212, 218, 230],\n         ...,\n         [143, 153, 162],\n         [143, 153, 162],\n         [143, 153, 162]],\n\n        ...,\n\n        [[ 86,  66,  55],\n         [ 85,  65,  54],\n         [ 84,  65,  51],\n         ...,\n         [ 34,  33,  28],\n         [ 34,  33,  28],\n         [ 34,  33,  28]],\n\n        [[ 84,  64,  53],\n         [ 83,  63,  52],\n         [ 81,  62,  48],\n         ...,\n         [ 27,  26,  21],\n         [ 27,  26,  21],\n         [ 27,  26,  21]],\n\n        [[ 82,  62,  51],\n         [ 81,  61,  50],\n         [ 79,  60,  46],\n         ...,\n         [ 62,  61,  56],\n         [ 62,  61,  56],\n         [ 62,  61,  56]]],\n\n\n       [[[164, 165, 170],\n         [164, 165, 170],\n         [165, 166, 171],\n         ...,\n         [209, 211, 200],\n         [208, 209, 201],\n         [208, 209, 201]],\n\n        [[164, 165, 170],\n         [164, 165, 170],\n         [164, 165, 170],\n         ...,\n         [207, 209, 198],\n         [205, 206, 198],\n         [204, 205, 197]],\n\n        [[163, 164, 169],\n         [163, 164, 169],\n         [164, 165, 170],\n         ...,\n         [200, 202, 191],\n         [198, 199, 191],\n         [196, 197, 189]],\n\n        ...,\n\n        [[133, 128, 122],\n         [132, 127, 121],\n         [132, 127, 121],\n         ...,\n         [ 25,  22,  15],\n         [ 26,  23,  16],\n         [ 27,  24,  17]],\n\n        [[134, 129, 123],\n         [132, 127, 121],\n         [130, 125, 119],\n         ...,\n         [ 28,  25,  18],\n         [ 29,  26,  19],\n         [ 29,  26,  19]],\n\n        [[132, 127, 121],\n         [129, 124, 118],\n         [124, 119, 113],\n         ...,\n         [ 41,  38,  31],\n         [ 42,  39,  32],\n         [ 42,  39,  32]]],\n\n\n       ...,\n\n\n       [[[107,  98,  65],\n         [ 97,  88,  55],\n         [ 87,  78,  45],\n         ...,\n         [138, 159, 186],\n         [138, 159, 186],\n         [138, 159, 186]],\n\n        [[119, 110,  77],\n         [112, 103,  70],\n         [104,  95,  62],\n         ...,\n         [138, 159, 186],\n         [138, 159, 186],\n         [138, 159, 186]],\n\n        [[121, 112,  79],\n         [118, 109,  76],\n         [116, 107,  74],\n         ...,\n         [138, 159, 186],\n         [138, 159, 186],\n         [138, 159, 186]],\n\n        ...,\n\n        [[ 53,  59,  57],\n         [ 56,  62,  60],\n         [ 60,  66,  64],\n         ...,\n         [ 55,  49,  37],\n         [ 54,  48,  36],\n         [ 54,  48,  36]],\n\n        [[ 56,  62,  60],\n         [ 60,  66,  64],\n         [ 66,  72,  70],\n         ...,\n         [ 58,  50,  39],\n         [ 57,  49,  38],\n         [ 56,  48,  37]],\n\n        [[ 59,  65,  63],\n         [ 64,  70,  68],\n         [ 70,  76,  74],\n         ...,\n         [107,  99,  88],\n         [106,  98,  87],\n         [105,  97,  86]]],\n\n\n       [[[180, 181, 183],\n         [180, 181, 183],\n         [180, 181, 183],\n         ...,\n         [197, 198, 200],\n         [198, 199, 201],\n         [198, 199, 201]],\n\n        [[180, 181, 183],\n         [180, 181, 183],\n         [180, 181, 183],\n         ...,\n         [198, 199, 201],\n         [198, 199, 201],\n         [198, 199, 201]],\n\n        [[180, 181, 183],\n         [180, 181, 183],\n         [180, 181, 183],\n         ...,\n         [198, 199, 201],\n         [199, 200, 202],\n         [199, 200, 202]],\n\n        ...,\n\n        [[197, 171, 158],\n         [190, 164, 151],\n         [182, 156, 143],\n         ...,\n         [ 40,  36,  35],\n         [ 40,  36,  35],\n         [ 40,  36,  35]],\n\n        [[193, 167, 154],\n         [187, 161, 148],\n         [179, 153, 140],\n         ...,\n         [ 34,  30,  29],\n         [ 34,  30,  29],\n         [ 34,  30,  29]],\n\n        [[192, 166, 153],\n         [185, 159, 146],\n         [176, 150, 137],\n         ...,\n         [ 74,  70,  69],\n         [ 74,  70,  69],\n         [ 74,  70,  69]]],\n\n\n       [[[ 54,  52,  39],\n         [ 54,  52,  39],\n         [ 55,  53,  40],\n         ...,\n         [196, 197, 202],\n         [195, 196, 201],\n         [194, 195, 200]],\n\n        [[ 53,  51,  38],\n         [ 54,  52,  39],\n         [ 54,  52,  39],\n         ...,\n         [195, 196, 201],\n         [194, 195, 200],\n         [193, 194, 199]],\n\n        [[ 52,  50,  37],\n         [ 52,  50,  37],\n         [ 53,  51,  38],\n         ...,\n         [194, 195, 200],\n         [193, 194, 199],\n         [191, 192, 197]],\n\n        ...,\n\n        [[ 76,  71,  75],\n         [ 75,  70,  74],\n         [ 74,  69,  73],\n         ...,\n         [ 52,  49,  42],\n         [ 52,  49,  42],\n         [ 52,  49,  42]],\n\n        [[ 72,  67,  71],\n         [ 72,  67,  71],\n         [ 72,  67,  71],\n         ...,\n         [ 50,  47,  40],\n         [ 50,  47,  40],\n         [ 50,  47,  40]],\n\n        [[ 69,  64,  68],\n         [ 69,  64,  68],\n         [ 68,  63,  67],\n         ...,\n         [ 96,  93,  86],\n         [ 96,  93,  86],\n         [ 96,  93,  86]]]], dtype=uint8)"
     },
     "execution_count": 89,
     "metadata": {},
     "output_type": "execute_result"
    }
   ],
   "source": [
    "X"
   ]
  },
  {
   "cell_type": "code",
   "execution_count": 90,
   "id": "ea4bb263",
   "metadata": {
    "pycharm": {
     "name": "#%%\n"
    }
   },
   "outputs": [],
   "source": [
    "model = GeoGuessrCNN(inputShape=inputShape, outputShape=outputShape[1])"
   ]
  },
  {
   "cell_type": "code",
   "execution_count": 92,
   "id": "b9fef181",
   "metadata": {
    "pycharm": {
     "name": "#%%\n"
    }
   },
   "outputs": [],
   "source": [
    "total_loss = 0"
   ]
  },
  {
   "cell_type": "code",
   "execution_count": 93,
   "id": "c30010ab",
   "metadata": {
    "scrolled": true,
    "pycharm": {
     "name": "#%%\n"
    }
   },
   "outputs": [
    {
     "name": "stdout",
     "output_type": "stream",
     "text": [
      "Getting data from directory: data/geoguessr_filtered/\n",
      "Read 11 points. Training now\n",
      "Epoch 1/5\n"
     ]
    },
    {
     "name": "stderr",
     "output_type": "stream",
     "text": [
      "2022-06-19 14:00:34.246451: W tensorflow/core/framework/cpu_allocator_impl.cc:82] Allocation of 520617984 exceeds 10% of free system memory.\n",
      "2022-06-19 14:00:34.389944: W tensorflow/core/framework/cpu_allocator_impl.cc:82] Allocation of 520617984 exceeds 10% of free system memory.\n",
      "2022-06-19 14:00:35.352519: W tensorflow/core/framework/cpu_allocator_impl.cc:82] Allocation of 520617984 exceeds 10% of free system memory.\n",
      "2022-06-19 14:00:36.457020: W tensorflow/core/framework/cpu_allocator_impl.cc:82] Allocation of 290193408 exceeds 10% of free system memory.\n",
      "2022-06-19 14:00:36.457820: W tensorflow/core/framework/cpu_allocator_impl.cc:82] Allocation of 290193408 exceeds 10% of free system memory.\n"
     ]
    },
    {
     "name": "stdout",
     "output_type": "stream",
     "text": [
      "11/11 [==============================] - 80s 7s/step - loss: 50.2087 - categorical_accuracy: 0.0909\n",
      "Epoch 2/5\n",
      "11/11 [==============================] - 80s 7s/step - loss: 27.7244 - categorical_accuracy: 0.0000e+00\n",
      "Epoch 3/5\n",
      "11/11 [==============================] - 76s 7s/step - loss: 19.8771 - categorical_accuracy: 0.1818\n",
      "Epoch 4/5\n",
      "11/11 [==============================] - 75s 7s/step - loss: 11.3130 - categorical_accuracy: 0.3636\n",
      "Epoch 5/5\n",
      "11/11 [==============================] - 77s 7s/step - loss: 6.9464 - categorical_accuracy: 0.1818\n",
      "Training sucessfull!!\n",
      "\n",
      "Saving model 0 with loss 0 at models\n",
      "Read 11 points. Training now\n",
      "Epoch 1/5\n",
      "11/11 [==============================] - 69s 6s/step - loss: 12.7408 - categorical_accuracy: 0.0000e+00\n",
      "Epoch 2/5\n",
      "11/11 [==============================] - 70s 6s/step - loss: 7.2260 - categorical_accuracy: 0.0000e+00\n",
      "Epoch 3/5\n",
      "11/11 [==============================] - 66s 6s/step - loss: 5.0239 - categorical_accuracy: 0.0000e+00\n",
      "Epoch 4/5\n",
      "11/11 [==============================] - 68s 6s/step - loss: 4.5519 - categorical_accuracy: 0.0909\n",
      "Epoch 5/5\n",
      "11/11 [==============================] - 69s 6s/step - loss: 3.3776 - categorical_accuracy: 0.1818\n",
      "Training sucessfull!!\n",
      "\n",
      "Saving model 1 with loss 0 at models\n",
      "Read 11 points. Training now\n",
      "Epoch 1/5\n",
      "11/11 [==============================] - 69s 6s/step - loss: 6.2147 - categorical_accuracy: 0.1818\n",
      "Epoch 2/5\n",
      "11/11 [==============================] - 70s 6s/step - loss: 5.6805 - categorical_accuracy: 0.2727\n",
      "Epoch 3/5\n",
      "11/11 [==============================] - 69s 6s/step - loss: 5.0066 - categorical_accuracy: 0.1818\n",
      "Epoch 4/5\n",
      "11/11 [==============================] - 68s 6s/step - loss: 3.8407 - categorical_accuracy: 0.3636\n",
      "Epoch 5/5\n",
      "11/11 [==============================] - 68s 6s/step - loss: 4.7250 - categorical_accuracy: 0.1818\n",
      "Training sucessfull!!\n",
      "\n",
      "Saving model 2 with loss 0 at models\n",
      "Read 11 points. Training now\n",
      "Epoch 1/5\n",
      "11/11 [==============================] - 69s 6s/step - loss: 6.4332 - categorical_accuracy: 0.0000e+00\n",
      "Epoch 2/5\n",
      "11/11 [==============================] - 68s 6s/step - loss: 5.3595 - categorical_accuracy: 0.0000e+00\n",
      "Epoch 3/5\n",
      "11/11 [==============================] - 69s 6s/step - loss: 4.3516 - categorical_accuracy: 0.0000e+00\n",
      "Epoch 4/5\n",
      "11/11 [==============================] - 69s 6s/step - loss: 3.6713 - categorical_accuracy: 0.2727\n",
      "Epoch 5/5\n",
      "11/11 [==============================] - 67s 6s/step - loss: 2.7221 - categorical_accuracy: 0.8182\n",
      "Training sucessfull!!\n",
      "\n",
      "Saving model 3 with loss 0 at models\n",
      "Read 11 points. Training now\n",
      "Epoch 1/5\n",
      "11/11 [==============================] - 71s 6s/step - loss: 4.7966 - categorical_accuracy: 0.3636\n",
      "Epoch 2/5\n",
      "11/11 [==============================] - 69s 6s/step - loss: 5.0019 - categorical_accuracy: 0.1818\n",
      "Epoch 3/5\n",
      "11/11 [==============================] - 69s 6s/step - loss: 3.4551 - categorical_accuracy: 0.3636\n",
      "Epoch 4/5\n",
      "11/11 [==============================] - 68s 6s/step - loss: 3.3200 - categorical_accuracy: 0.3636\n",
      "Epoch 5/5\n",
      "11/11 [==============================] - 69s 6s/step - loss: 3.2298 - categorical_accuracy: 0.3636\n",
      "Training sucessfull!!\n",
      "\n",
      "Saving model 4 with loss 0 at models\n",
      "Read 11 points. Training now\n",
      "Epoch 1/5\n",
      "11/11 [==============================] - 67s 6s/step - loss: 7.0765 - categorical_accuracy: 0.0000e+00\n",
      "Epoch 2/5\n",
      "11/11 [==============================] - 69s 6s/step - loss: 4.9661 - categorical_accuracy: 0.0000e+00\n",
      "Epoch 3/5\n",
      "11/11 [==============================] - 70s 6s/step - loss: 4.8697 - categorical_accuracy: 0.0000e+00\n",
      "Epoch 4/5\n",
      "11/11 [==============================] - 68s 6s/step - loss: 4.4819 - categorical_accuracy: 0.0000e+00\n",
      "Epoch 5/5\n",
      "11/11 [==============================] - 70s 6s/step - loss: 4.5378 - categorical_accuracy: 0.0909\n",
      "Training sucessfull!!\n",
      "\n",
      "Saving model 5 with loss 0 at models\n",
      "Read 11 points. Training now\n",
      "Epoch 1/5\n",
      "11/11 [==============================] - 70s 6s/step - loss: 5.5872 - categorical_accuracy: 0.0000e+00\n",
      "Epoch 2/5\n",
      "11/11 [==============================] - 69s 6s/step - loss: 5.6141 - categorical_accuracy: 0.0000e+00\n",
      "Epoch 3/5\n",
      "11/11 [==============================] - 70s 6s/step - loss: 5.3726 - categorical_accuracy: 0.0000e+00\n",
      "Epoch 4/5\n",
      "11/11 [==============================] - 68s 6s/step - loss: 4.9339 - categorical_accuracy: 0.0000e+00\n",
      "Epoch 5/5\n",
      "11/11 [==============================] - 67s 6s/step - loss: 5.0098 - categorical_accuracy: 0.0000e+00\n",
      "Training sucessfull!!\n",
      "\n",
      "Saving model 6 with loss 0 at models\n",
      "Read 11 points. Training now\n",
      "Epoch 1/5\n",
      "11/11 [==============================] - 70s 6s/step - loss: 5.0747 - categorical_accuracy: 0.0000e+00\n",
      "Epoch 2/5\n",
      "11/11 [==============================] - 70s 6s/step - loss: 4.7977 - categorical_accuracy: 0.0000e+00\n",
      "Epoch 3/5\n",
      "11/11 [==============================] - 68s 6s/step - loss: 4.5934 - categorical_accuracy: 0.0000e+00\n",
      "Epoch 4/5\n",
      "11/11 [==============================] - 70s 6s/step - loss: 4.5568 - categorical_accuracy: 0.0000e+00\n",
      "Epoch 5/5\n",
      "11/11 [==============================] - 68s 6s/step - loss: 4.4199 - categorical_accuracy: 0.0000e+00\n",
      "Training sucessfull!!\n",
      "\n",
      "Saving model 7 with loss 0 at models\n",
      "Read 11 points. Training now\n",
      "Epoch 1/5\n",
      "11/11 [==============================] - 70s 6s/step - loss: 5.8405 - categorical_accuracy: 0.0000e+00\n",
      "Epoch 2/5\n",
      "11/11 [==============================] - 68s 6s/step - loss: 5.1145 - categorical_accuracy: 0.0000e+00\n",
      "Epoch 3/5\n",
      "11/11 [==============================] - 69s 6s/step - loss: 4.9576 - categorical_accuracy: 0.0000e+00\n",
      "Epoch 4/5\n",
      "11/11 [==============================] - 68s 6s/step - loss: 4.9978 - categorical_accuracy: 0.0000e+00\n",
      "Epoch 5/5\n",
      "11/11 [==============================] - 68s 6s/step - loss: 4.8863 - categorical_accuracy: 0.0000e+00\n",
      "Training sucessfull!!\n",
      "\n",
      "Saving model 8 with loss 0 at models\n",
      "Read 11 points. Training now\n",
      "Epoch 1/5\n",
      "11/11 [==============================] - 70s 6s/step - loss: 5.2626 - categorical_accuracy: 0.0000e+00\n",
      "Epoch 2/5\n",
      "11/11 [==============================] - 70s 6s/step - loss: 5.0716 - categorical_accuracy: 0.0000e+00\n",
      "Epoch 3/5\n",
      "11/11 [==============================] - 70s 6s/step - loss: 5.0870 - categorical_accuracy: 0.0000e+00\n",
      "Epoch 4/5\n",
      "11/11 [==============================] - 70s 6s/step - loss: 4.8693 - categorical_accuracy: 0.0000e+00\n",
      "Epoch 5/5\n",
      "11/11 [==============================] - 70s 6s/step - loss: 5.0418 - categorical_accuracy: 0.0000e+00\n",
      "Training sucessfull!!\n",
      "\n",
      "Saving model 9 with loss 0 at models\n",
      "Read 11 points. Training now\n",
      "Epoch 1/5\n",
      "11/11 [==============================] - 69s 6s/step - loss: 5.2668 - categorical_accuracy: 0.0000e+00\n",
      "Epoch 2/5\n",
      "11/11 [==============================] - 70s 6s/step - loss: 5.2883 - categorical_accuracy: 0.0000e+00\n",
      "Epoch 3/5\n",
      "11/11 [==============================] - 70s 6s/step - loss: 4.9893 - categorical_accuracy: 0.0000e+00\n",
      "Epoch 4/5\n",
      "11/11 [==============================] - 70s 6s/step - loss: 4.9530 - categorical_accuracy: 0.0000e+00\n",
      "Epoch 5/5\n",
      "11/11 [==============================] - 69s 6s/step - loss: 4.9925 - categorical_accuracy: 0.0000e+00\n",
      "Training sucessfull!!\n",
      "\n",
      "Saving model 10 with loss 0 at models\n",
      "Read 11 points. Training now\n",
      "Epoch 1/5\n",
      "11/11 [==============================] - 68s 6s/step - loss: 5.1118 - categorical_accuracy: 0.0000e+00\n",
      "Epoch 2/5\n",
      "11/11 [==============================] - 68s 6s/step - loss: 4.9720 - categorical_accuracy: 0.0000e+00\n",
      "Epoch 3/5\n",
      "11/11 [==============================] - 69s 6s/step - loss: 4.9949 - categorical_accuracy: 0.0000e+00\n",
      "Epoch 4/5\n",
      "11/11 [==============================] - 68s 6s/step - loss: 4.7043 - categorical_accuracy: 0.0000e+00\n",
      "Epoch 5/5\n",
      "11/11 [==============================] - 68s 6s/step - loss: 4.5058 - categorical_accuracy: 0.0000e+00\n",
      "Training sucessfull!!\n",
      "\n",
      "Saving model 11 with loss 0 at models\n",
      "Read 11 points. Training now\n",
      "Epoch 1/5\n",
      "11/11 [==============================] - 70s 6s/step - loss: 4.6662 - categorical_accuracy: 0.0000e+00\n",
      "Epoch 2/5\n",
      "11/11 [==============================] - 70s 6s/step - loss: 3.8784 - categorical_accuracy: 0.0909\n",
      "Epoch 3/5\n",
      "11/11 [==============================] - 68s 6s/step - loss: 1.9297 - categorical_accuracy: 0.8182\n",
      "Epoch 4/5\n",
      "11/11 [==============================] - 69s 6s/step - loss: 0.2258 - categorical_accuracy: 1.0000\n",
      "Epoch 5/5\n",
      "11/11 [==============================] - 70s 6s/step - loss: 0.0018 - categorical_accuracy: 1.0000\n",
      "Training sucessfull!!\n",
      "\n",
      "Saving model 12 with loss 0 at models\n",
      "Read 11 points. Training now\n",
      "Epoch 1/5\n",
      "11/11 [==============================] - 70s 6s/step - loss: 19.4765 - categorical_accuracy: 0.2727\n",
      "Epoch 2/5\n",
      "11/11 [==============================] - 70s 6s/step - loss: 5.2363 - categorical_accuracy: 0.0909\n",
      "Epoch 3/5\n",
      "11/11 [==============================] - 70s 6s/step - loss: 4.9693 - categorical_accuracy: 0.0909\n",
      "Epoch 4/5\n",
      "11/11 [==============================] - 70s 6s/step - loss: 4.7720 - categorical_accuracy: 0.2727\n",
      "Epoch 5/5\n",
      "11/11 [==============================] - 70s 6s/step - loss: 4.7379 - categorical_accuracy: 0.0909\n",
      "Training sucessfull!!\n",
      "\n",
      "Saving model 13 with loss 0 at models\n",
      "Read 11 points. Training now\n",
      "Epoch 1/5\n",
      "11/11 [==============================] - 70s 6s/step - loss: 5.4581 - categorical_accuracy: 0.0000e+00\n",
      "Epoch 2/5\n",
      "11/11 [==============================] - 70s 6s/step - loss: 5.3872 - categorical_accuracy: 0.0000e+00\n",
      "Epoch 3/5\n",
      "11/11 [==============================] - 70s 6s/step - loss: 5.0941 - categorical_accuracy: 0.0000e+00\n",
      "Epoch 4/5\n",
      "11/11 [==============================] - 70s 6s/step - loss: 5.0181 - categorical_accuracy: 0.0000e+00\n",
      "Epoch 5/5\n",
      "11/11 [==============================] - 71s 6s/step - loss: 5.0022 - categorical_accuracy: 0.0000e+00\n",
      "Training sucessfull!!\n",
      "\n",
      "Saving model 14 with loss 0 at models\n",
      "Read 11 points. Training now\n",
      "Epoch 1/5\n",
      "11/11 [==============================] - 68s 6s/step - loss: 5.3902 - categorical_accuracy: 0.0000e+00\n",
      "Epoch 2/5\n",
      "11/11 [==============================] - 68s 6s/step - loss: 5.3341 - categorical_accuracy: 0.0000e+00\n",
      "Epoch 3/5\n",
      "11/11 [==============================] - 69s 6s/step - loss: 5.1802 - categorical_accuracy: 0.0000e+00\n",
      "Epoch 4/5\n",
      "11/11 [==============================] - 70s 6s/step - loss: 5.1045 - categorical_accuracy: 0.0000e+00\n",
      "Epoch 5/5\n",
      "11/11 [==============================] - 70s 6s/step - loss: 5.0404 - categorical_accuracy: 0.0000e+00\n",
      "Training sucessfull!!\n",
      "\n",
      "Saving model 15 with loss 0 at models\n",
      "Read 11 points. Training now\n",
      "Epoch 1/5\n",
      "11/11 [==============================] - 70s 6s/step - loss: 5.2348 - categorical_accuracy: 0.0000e+00\n",
      "Epoch 2/5\n",
      "11/11 [==============================] - 69s 6s/step - loss: 5.1740 - categorical_accuracy: 0.0000e+00\n",
      "Epoch 3/5\n",
      "11/11 [==============================] - 68s 6s/step - loss: 5.1375 - categorical_accuracy: 0.0000e+00\n",
      "Epoch 4/5\n",
      "11/11 [==============================] - 67s 6s/step - loss: 5.0855 - categorical_accuracy: 0.0000e+00\n",
      "Epoch 5/5\n",
      "11/11 [==============================] - 67s 6s/step - loss: 5.0423 - categorical_accuracy: 0.0000e+00\n",
      "Training sucessfull!!\n",
      "\n",
      "Saving model 16 with loss 0 at models\n",
      "Read 11 points. Training now\n",
      "Epoch 1/5\n",
      "11/11 [==============================] - 67s 6s/step - loss: 5.0484 - categorical_accuracy: 0.0000e+00\n",
      "Epoch 2/5\n",
      "11/11 [==============================] - 67s 6s/step - loss: 5.0371 - categorical_accuracy: 0.0000e+00\n",
      "Epoch 3/5\n",
      "11/11 [==============================] - 67s 6s/step - loss: 5.0118 - categorical_accuracy: 0.0000e+00\n",
      "Epoch 4/5\n",
      "11/11 [==============================] - 67s 6s/step - loss: 4.9875 - categorical_accuracy: 0.0000e+00\n",
      "Epoch 5/5\n",
      "11/11 [==============================] - 67s 6s/step - loss: 4.9703 - categorical_accuracy: 0.0000e+00\n",
      "Training sucessfull!!\n",
      "\n",
      "Saving model 17 with loss 0 at models\n",
      "Read 11 points. Training now\n",
      "Epoch 1/5\n",
      "11/11 [==============================] - 67s 6s/step - loss: 4.6832 - categorical_accuracy: 0.0000e+00\n",
      "Epoch 2/5\n",
      "11/11 [==============================] - 67s 6s/step - loss: 4.6372 - categorical_accuracy: 0.0000e+00\n",
      "Epoch 3/5\n",
      "11/11 [==============================] - 67s 6s/step - loss: 4.5889 - categorical_accuracy: 0.0000e+00\n",
      "Epoch 4/5\n",
      "11/11 [==============================] - 67s 6s/step - loss: 4.5389 - categorical_accuracy: 0.6364\n",
      "Epoch 5/5\n",
      "11/11 [==============================] - 67s 6s/step - loss: 4.4862 - categorical_accuracy: 0.8182\n",
      "Training sucessfull!!\n",
      "\n",
      "Saving model 18 with loss 0 at models\n",
      "Read 11 points. Training now\n",
      "Epoch 1/5\n",
      "11/11 [==============================] - 67s 6s/step - loss: 5.1992 - categorical_accuracy: 0.0000e+00\n",
      "Epoch 2/5\n",
      "11/11 [==============================] - 68s 6s/step - loss: 5.1642 - categorical_accuracy: 0.0000e+00\n",
      "Epoch 3/5\n",
      "11/11 [==============================] - 67s 6s/step - loss: 5.1345 - categorical_accuracy: 0.0000e+00\n",
      "Epoch 4/5\n",
      "11/11 [==============================] - 67s 6s/step - loss: 5.1025 - categorical_accuracy: 0.0000e+00\n",
      "Epoch 5/5\n",
      "11/11 [==============================] - 67s 6s/step - loss: 5.0941 - categorical_accuracy: 0.0000e+00\n",
      "Training sucessfull!!\n",
      "\n",
      "Saving model 19 with loss 0 at models\n",
      "Read 11 points. Training now\n",
      "Epoch 1/5\n",
      "11/11 [==============================] - 69s 6s/step - loss: 5.3337 - categorical_accuracy: 0.0000e+00\n",
      "Epoch 2/5\n",
      "11/11 [==============================] - 69s 6s/step - loss: 5.2993 - categorical_accuracy: 0.0000e+00\n",
      "Epoch 3/5\n",
      "11/11 [==============================] - 68s 6s/step - loss: 5.2605 - categorical_accuracy: 0.0000e+00\n",
      "Epoch 4/5\n",
      "11/11 [==============================] - 69s 6s/step - loss: 5.2323 - categorical_accuracy: 0.0000e+00\n",
      "Epoch 5/5\n",
      "11/11 [==============================] - 68s 6s/step - loss: 5.2077 - categorical_accuracy: 0.0000e+00\n",
      "Training sucessfull!!\n",
      "\n",
      "Saving model 20 with loss 0 at models\n",
      "Read 11 points. Training now\n",
      "Epoch 1/5\n",
      "11/11 [==============================] - 69s 6s/step - loss: 5.4390 - categorical_accuracy: 0.0000e+00\n",
      "Epoch 2/5\n",
      "11/11 [==============================] - 69s 6s/step - loss: 5.4109 - categorical_accuracy: 0.0000e+00\n",
      "Epoch 3/5\n",
      "11/11 [==============================] - 69s 6s/step - loss: 5.3844 - categorical_accuracy: 0.0000e+00\n",
      "Epoch 4/5\n",
      "11/11 [==============================] - 69s 6s/step - loss: 5.3630 - categorical_accuracy: 0.0000e+00\n",
      "Epoch 5/5\n",
      "11/11 [==============================] - 69s 6s/step - loss: 5.3428 - categorical_accuracy: 0.0000e+00\n",
      "Training sucessfull!!\n",
      "\n",
      "Saving model 21 with loss 0 at models\n",
      "Read 11 points. Training now\n",
      "Epoch 1/5\n",
      "11/11 [==============================] - 69s 6s/step - loss: 5.5474 - categorical_accuracy: 0.0000e+00\n",
      "Epoch 2/5\n",
      "11/11 [==============================] - 70s 6s/step - loss: 5.5183 - categorical_accuracy: 0.0000e+00\n",
      "Epoch 3/5\n",
      "11/11 [==============================] - 70s 6s/step - loss: 5.4925 - categorical_accuracy: 0.0000e+00\n",
      "Epoch 4/5\n",
      "11/11 [==============================] - 70s 6s/step - loss: 5.4638 - categorical_accuracy: 0.0000e+00\n",
      "Epoch 5/5\n",
      "11/11 [==============================] - 70s 6s/step - loss: 5.4409 - categorical_accuracy: 0.0000e+00\n",
      "Training sucessfull!!\n",
      "\n",
      "Saving model 22 with loss 0 at models\n",
      "Read 11 points. Training now\n",
      "Epoch 1/5\n",
      "11/11 [==============================] - 70s 6s/step - loss: 5.4576 - categorical_accuracy: 0.0000e+00\n",
      "Epoch 2/5\n",
      "11/11 [==============================] - 70s 6s/step - loss: 5.4163 - categorical_accuracy: 0.0000e+00\n",
      "Epoch 3/5\n",
      "11/11 [==============================] - 69s 6s/step - loss: 5.3750 - categorical_accuracy: 0.0000e+00\n",
      "Epoch 4/5\n",
      "11/11 [==============================] - 70s 6s/step - loss: 5.3397 - categorical_accuracy: 0.0000e+00\n",
      "Epoch 5/5\n",
      "11/11 [==============================] - 70s 6s/step - loss: 5.3066 - categorical_accuracy: 0.0000e+00\n",
      "Training sucessfull!!\n",
      "\n",
      "Saving model 23 with loss 0 at models\n",
      "Read 11 points. Training now\n",
      "Epoch 1/5\n",
      "11/11 [==============================] - 69s 6s/step - loss: 5.4827 - categorical_accuracy: 0.0000e+00\n",
      "Epoch 2/5\n",
      "11/11 [==============================] - 70s 6s/step - loss: 5.4467 - categorical_accuracy: 0.0000e+00\n",
      "Epoch 3/5\n",
      "11/11 [==============================] - 70s 6s/step - loss: 5.4120 - categorical_accuracy: 0.0000e+00\n",
      "Epoch 4/5\n",
      "11/11 [==============================] - 70s 6s/step - loss: 5.3807 - categorical_accuracy: 0.0000e+00\n",
      "Epoch 5/5\n",
      "11/11 [==============================] - 70s 6s/step - loss: 5.3532 - categorical_accuracy: 0.0000e+00\n",
      "Training sucessfull!!\n",
      "\n",
      "Saving model 24 with loss 0 at models\n",
      "Read 11 points. Training now\n",
      "Epoch 1/5\n",
      "11/11 [==============================] - 68s 6s/step - loss: 5.4196 - categorical_accuracy: 0.0000e+00\n",
      "Epoch 2/5\n",
      "11/11 [==============================] - 67s 6s/step - loss: 5.3780 - categorical_accuracy: 0.0000e+00\n",
      "Epoch 3/5\n",
      "11/11 [==============================] - 70s 6s/step - loss: 5.3365 - categorical_accuracy: 0.0000e+00\n",
      "Epoch 4/5\n",
      "11/11 [==============================] - 70s 6s/step - loss: 5.2964 - categorical_accuracy: 0.0000e+00\n",
      "Epoch 5/5\n",
      "11/11 [==============================] - 70s 6s/step - loss: 5.2592 - categorical_accuracy: 0.0000e+00\n",
      "Training sucessfull!!\n",
      "\n",
      "Saving model 25 with loss 0 at models\n",
      "Read 11 points. Training now\n",
      "Epoch 1/5\n",
      "11/11 [==============================] - 68s 6s/step - loss: 5.2241 - categorical_accuracy: 0.0000e+00\n",
      "Epoch 2/5\n",
      "11/11 [==============================] - 70s 6s/step - loss: 5.1909 - categorical_accuracy: 0.0000e+00\n",
      "Epoch 3/5\n",
      "11/11 [==============================] - 68s 6s/step - loss: 5.1591 - categorical_accuracy: 0.0000e+00\n",
      "Epoch 4/5\n",
      "11/11 [==============================] - 68s 6s/step - loss: 5.1287 - categorical_accuracy: 0.0000e+00\n",
      "Epoch 5/5\n",
      "11/11 [==============================] - 68s 6s/step - loss: 5.0994 - categorical_accuracy: 0.0000e+00\n",
      "Training sucessfull!!\n",
      "\n",
      "Saving model 26 with loss 0 at models\n",
      "Read 11 points. Training now\n",
      "Epoch 1/5\n",
      "11/11 [==============================] - 70s 6s/step - loss: 5.0712 - categorical_accuracy: 0.0000e+00\n",
      "Epoch 2/5\n",
      "11/11 [==============================] - 70s 6s/step - loss: 5.0438 - categorical_accuracy: 0.0000e+00\n",
      "Epoch 3/5\n",
      "11/11 [==============================] - 68s 6s/step - loss: 5.0172 - categorical_accuracy: 0.0000e+00\n",
      "Epoch 4/5\n",
      "11/11 [==============================] - 70s 6s/step - loss: 4.9920 - categorical_accuracy: 0.0000e+00\n",
      "Epoch 5/5\n",
      "11/11 [==============================] - 69s 6s/step - loss: 4.9660 - categorical_accuracy: 0.0000e+00\n",
      "Training sucessfull!!\n",
      "\n",
      "Saving model 27 with loss 0 at models\n",
      "Read 11 points. Training now\n",
      "Epoch 1/5\n",
      "11/11 [==============================] - 68s 6s/step - loss: 4.9413 - categorical_accuracy: 0.0000e+00\n",
      "Epoch 2/5\n",
      "11/11 [==============================] - 68s 6s/step - loss: 4.9171 - categorical_accuracy: 0.0000e+00\n",
      "Epoch 3/5\n",
      "11/11 [==============================] - 67s 6s/step - loss: 4.8934 - categorical_accuracy: 0.0000e+00\n",
      "Epoch 4/5\n",
      "11/11 [==============================] - 68s 6s/step - loss: 4.8702 - categorical_accuracy: 0.0000e+00\n",
      "Epoch 5/5\n",
      "11/11 [==============================] - 70s 6s/step - loss: 4.8474 - categorical_accuracy: 0.0000e+00\n",
      "Training sucessfull!!\n",
      "\n",
      "Saving model 28 with loss 0 at models\n",
      "Read 11 points. Training now\n",
      "Epoch 1/5\n",
      "11/11 [==============================] - 69s 6s/step - loss: 4.8268 - categorical_accuracy: 0.0000e+00\n",
      "Epoch 2/5\n",
      "11/11 [==============================] - 68s 6s/step - loss: 4.8028 - categorical_accuracy: 0.0000e+00\n",
      "Epoch 3/5\n",
      "11/11 [==============================] - 69s 6s/step - loss: 4.7811 - categorical_accuracy: 0.0000e+00\n",
      "Epoch 4/5\n",
      "11/11 [==============================] - 68s 6s/step - loss: 4.7596 - categorical_accuracy: 0.0000e+00\n",
      "Epoch 5/5\n",
      "11/11 [==============================] - 70s 6s/step - loss: 4.7385 - categorical_accuracy: 0.0000e+00\n",
      "Training sucessfull!!\n",
      "\n",
      "Saving model 29 with loss 0 at models\n",
      "Read 4 points. Training now\n",
      "Epoch 1/5\n",
      "4/4 [==============================] - 24s 6s/step - loss: 5.5646 - categorical_accuracy: 0.0000e+00\n",
      "Epoch 2/5\n",
      "4/4 [==============================] - 24s 6s/step - loss: 5.5558 - categorical_accuracy: 0.0000e+00\n",
      "Epoch 3/5\n",
      "4/4 [==============================] - 25s 6s/step - loss: 5.5443 - categorical_accuracy: 0.0000e+00\n",
      "Epoch 4/5\n",
      "4/4 [==============================] - 25s 6s/step - loss: 5.5326 - categorical_accuracy: 0.0000e+00\n",
      "Epoch 5/5\n",
      "4/4 [==============================] - 25s 6s/step - loss: 5.5210 - categorical_accuracy: 0.0000e+00\n",
      "Training sucessfull!!\n",
      "\n",
      "Saving model 30 with loss 0 at models\n"
     ]
    }
   ],
   "source": [
    "epochs = 5\n",
    "\n",
    "print(\"Getting data from directory: {}\".format(directory))\n",
    "accuracy = []\n",
    "loss = []\n",
    "saveFolder = \"models-20\"\n",
    "cnt = 0\n",
    "for X, y in dataGen(fn1, directory, batchSize=11, infinite=False):\n",
    "    callBack = [LossAndErrorPrintingCallback(saveFolder, cnt)]\n",
    "    print(\"Read {} points. Training now\".format(len(X)))\n",
    "    evalutaion = model.fit(X, y,\n",
    "                           epochs=epochs, steps_per_epoch=len(X),\n",
    "                           callbacks=callBack)\n",
    "    accuracy += evalutaion.history['categorical_accuracy']\n",
    "    loss += evalutaion.history['loss']\n",
    "    cnt += 1\n"
   ]
  },
  {
   "cell_type": "code",
   "execution_count": 94,
   "outputs": [
    {
     "data": {
      "text/plain": "<Figure size 432x288 with 1 Axes>",
      "image/png": "[encoded data removed]"
     },
     "metadata": {
      "needs_background": "light"
     },
     "output_type": "display_data"
    },
    {
     "data": {
      "text/plain": "<Figure size 432x288 with 1 Axes>",
      "image/png": "[encoded data removed]"
     },
     "metadata": {
      "needs_background": "light"
     },
     "output_type": "display_data"
    }
   ],
   "source": [
    "plt.plot(accuracy)\n",
    "plt.title('Model Accuracy')\n",
    "plt.ylabel('Accuracy')\n",
    "plt.xlabel('Epochs')\n",
    "plt.show()\n",
    "\n",
    "plt.plot(loss)\n",
    "plt.title('Model Loss')\n",
    "plt.ylabel('Loss')\n",
    "plt.xlabel('Epoch')\n",
    "plt.show()"
   ],
   "metadata": {
    "collapsed": false,
    "pycharm": {
     "name": "#%%\n"
    }
   }
  }
 ],
 "metadata": {
  "kernelspec": {
   "display_name": "Python 3 (ipykernel)",
   "language": "python",
   "name": "python3"
  },
  "language_info": {
   "codemirror_mode": {
    "name": "ipython",
    "version": 3
   },
   "file_extension": ".py",
   "mimetype": "text/x-python",
   "name": "python",
   "nbconvert_exporter": "python",
   "pygments_lexer": "ipython3",
   "version": "3.10.4"
  }
 },
 "nbformat": 4,
 "nbformat_minor": 5
}