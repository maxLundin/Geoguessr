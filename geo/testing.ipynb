{
 "cells": [
  {
   "cell_type": "code",
   "execution_count": 82,
   "id": "ebd555a2",
   "metadata": {
    "pycharm": {
     "name": "#%%\n"
    }
   },
   "outputs": [],
   "source": [
    "import torch\n",
    "from torch import nn\n",
    "from torch.autograd import Variable"
   ]
  },
  {
   "cell_type": "code",
   "execution_count": 83,
   "id": "021d063b",
   "metadata": {
    "pycharm": {
     "name": "#%%\n"
    }
   },
   "outputs": [],
   "source": [
    "import os\n",
    "import os.path\n",
    "\n",
    "import shutil\n",
    "\n",
    "directory = \"data/geoguessr_filtered_250/\"\n",
    "\n",
    "filenames = []\n",
    "\n",
    "for filename in os.listdir(directory):\n",
    "    f = os.path.join(directory, filename)\n",
    "    if (os.path.isdir(f)):\n",
    "        i = 0\n",
    "        for image in os.listdir(f):\n",
    "            filenames.append(f\"{f}/{image}\")\n",
    "            i += 1"
   ]
  },
  {
   "cell_type": "code",
   "execution_count": 84,
   "id": "8b530d45",
   "metadata": {
    "pycharm": {
     "name": "#%%\n"
    }
   },
   "outputs": [],
   "source": [
    "import geoLSTM"
   ]
  },
  {
   "cell_type": "code",
   "execution_count": 85,
   "id": "c04321cb",
   "metadata": {
    "pycharm": {
     "name": "#%%\n"
    }
   },
   "outputs": [],
   "source": [
    "from shapely.geometry import Point, Polygon\n",
    "from matplotlib import pyplot as plt\n",
    "from math import sin, cos, sqrt, atan2, radians\n",
    "\n",
    "# !pip install gmaps\n",
    "import shapely\n",
    "import pickle\n",
    "import random\n",
    "import numpy as np\n",
    "import gmaps, os\n",
    "import tensorflow as tf\n",
    "from tensorflow.keras.preprocessing.image import load_img\n",
    "from tensorflow.keras.preprocessing.image import img_to_array\n",
    "from ipywidgets.embed import embed_minimal_html\n",
    "import webbrowser\n",
    "import argparse\n",
    "\n",
    "from tensorflow.keras.layers import TimeDistributed, Dense, Dropout, LSTM\n",
    "from tensorflow.keras.layers import Conv2D, BatchNormalization, MaxPool2D, GlobalMaxPool2D, GlobalMaxPool3D\n",
    "from tensorflow.keras.applications.resnet50 import ResNet50"
   ]
  },
  {
   "cell_type": "code",
   "execution_count": 86,
   "id": "f94f687b",
   "metadata": {
    "pycharm": {
     "name": "#%%\n"
    }
   },
   "outputs": [
    {
     "name": "stdout",
     "output_type": "stream",
     "text": [
      "['Aland/canvas_1629586212.jpg', 'Albania/canvas_1629319286.jpg', 'American Samoa/canvas_1629274653.jpg', 'Andorra/canvas_1629312152.jpg', 'Argentina/canvas_1629257860.jpg', 'Argentina/canvas_1629480118.jpg', 'Argentina/canvas_1629730075.jpg', 'Argentina/canvas_1629942298.jpg', 'Argentina/canvas_1630100848.jpg', 'Australia/canvas_1629257902.jpg', 'Australia/canvas_1629353514.jpg', 'Australia/canvas_1629448318.jpg', 'Australia/canvas_1629544181.jpg', 'Australia/canvas_1629683854.jpg', 'Australia/canvas_1629741251.jpg', 'Australia/canvas_1629828705.jpg', 'Australia/canvas_1629907075.jpg', 'Australia/canvas_1630001200.jpg', 'Australia/canvas_1630059063.jpg', 'Australia/canvas_1630120358.jpg', 'Australia/canvas_1630280723.jpg', 'Austria/canvas_1629258906.jpg', 'Austria/canvas_1629682638.jpg', 'Austria/canvas_1630091005.jpg', 'Bangladesh/canvas_1629273181.jpg', 'Belgium/canvas_1629260343.jpg', 'Belgium/canvas_1629969644.jpg', 'Bermuda/canvas_1629939285.jpg', 'Bhutan/canvas_1629527767.jpg', 'Bolivia/canvas_1629269573.jpg', 'Botswana/canvas_1629279058.jpg', 'Brazil/canvas_1629258007.jpg', 'Brazil/canvas_1629313621.jpg', 'Brazil/canvas_1629411843.jpg', 'Brazil/canvas_1629475452.jpg', 'Brazil/canvas_1629533582.jpg', 'Brazil/canvas_1629592758.jpg', 'Brazil/canvas_1629700934.jpg', 'Brazil/canvas_1629737482.jpg', 'Brazil/canvas_1629785550.jpg', 'Brazil/canvas_1629852512.jpg', 'Brazil/canvas_1629912736.jpg', 'Brazil/canvas_1629969929.jpg', 'Brazil/canvas_1630042481.jpg', 'Brazil/canvas_1630085105.jpg', 'Brazil/canvas_1630140266.jpg', 'Brazil/canvas_1630275601.jpg', 'Bulgaria/canvas_1629267041.jpg', 'Bulgaria/canvas_1629925822.jpg', 'Cambodia/canvas_1629272396.jpg', 'Canada/canvas_1629259039.jpg', 'Canada/canvas_1629388491.jpg', 'Canada/canvas_1629504736.jpg', 'Canada/canvas_1629620229.jpg', 'Canada/canvas_1629738469.jpg', 'Canada/canvas_1629837671.jpg', 'Canada/canvas_1629933807.jpg', 'Canada/canvas_1629999762.jpg', 'Canada/canvas_1630029876.jpg', 'Canada/canvas_1630277196.jpg', 'Chile/canvas_1629261559.jpg', 'Chile/canvas_1629735553.jpg', 'Chile/canvas_1630120941.jpg', 'China/canvas_1629477592.jpg', 'Colombia/canvas_1629257853.jpg', 'Colombia/canvas_1629869404.jpg', 'Costa Rica/canvas_1629274595.jpg', 'Curacao/canvas_1629411494.jpg', 'Czechia/canvas_1629265415.jpg', 'Czechia/canvas_1629901103.jpg', 'Denmark/canvas_1629265334.jpg', 'Denmark/canvas_1629937592.jpg', 'Dominican Republic/canvas_1629425790.jpg', 'Ecuador/canvas_1629263024.jpg', 'Egypt/canvas_1629270580.jpg', 'Estonia/canvas_1629273470.jpg', 'Eswatini/canvas_1629846594.jpg', 'Faroe Islands/canvas_1629783036.jpg', 'Finland/canvas_1629259371.jpg', 'Finland/canvas_1629413487.jpg', 'Finland/canvas_1629550489.jpg', 'Finland/canvas_1629749307.jpg', 'Finland/canvas_1629866376.jpg', 'Finland/canvas_1630005309.jpg', 'Finland/canvas_1630117498.jpg', 'France/canvas_1629257792.jpg', 'France/canvas_1629281533.jpg', 'France/canvas_1629330625.jpg', 'France/canvas_1629408998.jpg', 'France/canvas_1629430058.jpg', 'France/canvas_1629475458.jpg', 'France/canvas_1629521035.jpg', 'France/canvas_1629547639.jpg', 'France/canvas_1629595996.jpg', 'France/canvas_1629688364.jpg', 'France/canvas_1629713003.jpg', 'France/canvas_1629748876.jpg', 'France/canvas_1629773581.jpg', 'France/canvas_1629829322.jpg', 'France/canvas_1629859140.jpg', 'France/canvas_1629911812.jpg', 'France/canvas_1629941895.jpg', 'France/canvas_1629995124.jpg', 'France/canvas_1630027441.jpg', 'France/canvas_1630054842.jpg', 'France/canvas_1630082061.jpg', 'France/canvas_1630118296.jpg', 'France/canvas_1630214800.jpg', 'France/canvas_1630274235.jpg', 'Germany/canvas_1629257977.jpg', 'Germany/canvas_1629474710.jpg', 'Germany/canvas_1629721385.jpg', 'Germany/canvas_1629933103.jpg', 'Germany/canvas_1630089570.jpg', 'Ghana/canvas_1629260232.jpg', 'Greece/canvas_1629258105.jpg', 'Greece/canvas_1629831135.jpg', 'Greenland/canvas_1629389511.jpg', 'Guam/canvas_1629355636.jpg', 'Guatemala/canvas_1629262053.jpg', 'Hong Kong/canvas_1629276333.jpg', 'Hungary/canvas_1629269865.jpg', 'Hungary/canvas_1630125977.jpg', 'Iceland/canvas_1629852718.jpg', 'India/canvas_1629261533.jpg', 'India/canvas_1630121752.jpg', 'Iraq/canvas_1629846796.jpg', 'Ireland/canvas_1629259253.jpg', 'Ireland/canvas_1629790667.jpg', 'Isle of Man/canvas_1629395310.jpg', 'Israel/canvas_1629259493.jpg', 'Israel/canvas_1629727816.jpg', 'Israel/canvas_1630215179.jpg', 'Italy/canvas_1629480733.jpg', 'Italy/canvas_1629703688.jpg', 'Italy/canvas_1629866249.jpg', 'Italy/canvas_1629874900.jpg', 'Italy/canvas_1630045744.jpg', 'Italy/canvas_1630269675.jpg', 'Japan/canvas_1629258463.jpg', 'Japan/canvas_1629283186.jpg', 'Japan/canvas_1629328839.jpg', 'Japan/canvas_1629402515.jpg', 'Japan/canvas_1629425282.jpg', 'Japan/canvas_1629449461.jpg', 'Japan/canvas_1629509037.jpg', 'Japan/canvas_1629534112.jpg', 'Japan/canvas_1629572332.jpg', 'Japan/canvas_1629620102.jpg', 'Japan/canvas_1629691779.jpg', 'Japan/canvas_1629716763.jpg', 'Japan/canvas_1629746794.jpg', 'Japan/canvas_1629771717.jpg', 'Japan/canvas_1629825072.jpg', 'Japan/canvas_1629846867.jpg', 'Japan/canvas_1629900477.jpg', 'Japan/canvas_1629925212.jpg', 'Japan/canvas_1629957326.jpg', 'Japan/canvas_1630009241.jpg', 'Japan/canvas_1630041009.jpg', 'Japan/canvas_1630062699.jpg', 'Japan/canvas_1630090935.jpg', 'Japan/canvas_1630106731.jpg', 'Japan/canvas_1630124343.jpg', 'Japan/canvas_1630275951.jpg', 'Jersey/canvas_1629433771.jpg', 'Jordan/canvas_1629264760.jpg', 'Kenya/canvas_1629274559.jpg', 'Kyrgyzstan/canvas_1629277400.jpg', 'Laos/canvas_1629825281.jpg', 'Latvia/canvas_1629262443.jpg', 'Lebanon/canvas_1629481913.jpg', 'Lesotho/canvas_1629268204.jpg', 'Lithuania/canvas_1629274293.jpg', 'Luxembourg/canvas_1629355398.jpg', 'Macao/canvas_1629666899.jpg', 'Madagascar/canvas_1629421630.jpg', 'Malaysia/canvas_1629258284.jpg', 'Malaysia/canvas_1629544710.jpg', 'Malaysia/canvas_1629974056.jpg', 'Malta/canvas_1629838955.jpg', 'Martinique/canvas_1630014096.jpg', 'Monaco/canvas_1630063975.jpg', 'Mongolia/canvas_1629275487.jpg', 'Montenegro/canvas_1629264505.jpg', 'Myanmar/canvas_1629929772.jpg', 'Netherlands/canvas_1629257895.jpg', 'Netherlands/canvas_1629534875.jpg', 'Netherlands/canvas_1629791735.jpg', 'Netherlands/canvas_1630064442.jpg', 'New Zealand/canvas_1629262504.jpg', 'New Zealand/canvas_1629508677.jpg', 'New Zealand/canvas_1629781775.jpg', 'New Zealand/canvas_1630067298.jpg', 'Nigeria/canvas_1629266219.jpg', 'North Macedonia/canvas_1629258141.jpg', 'Northern Mariana Islands/canvas_1629312854.jpg', 'Norway/canvas_1629258086.jpg', 'Norway/canvas_1629503372.jpg', 'Norway/canvas_1629749974.jpg', 'Norway/canvas_1629943005.jpg', 'Norway/canvas_1630105049.jpg', 'Pakistan/canvas_1629304250.jpg', 'Palestine/canvas_1629258809.jpg', 'Paraguay/canvas_1630216530.jpg', 'Peru/canvas_1629263581.jpg', 'Peru/canvas_1629835445.jpg', 'Philippines/canvas_1629258208.jpg', 'Philippines/canvas_1629925693.jpg', 'Poland/canvas_1629443828.jpg', 'Poland/canvas_1629683896.jpg', 'Poland/canvas_1629835194.jpg', 'Poland/canvas_1629850572.jpg', 'Poland/canvas_1630001850.jpg', 'Poland/canvas_1630106694.jpg', 'Portugal/canvas_1629263383.jpg', 'Portugal/canvas_1629842140.jpg', 'Puerto Rico/canvas_1629262017.jpg', 'Reunion/canvas_1629259439.jpg', 'Russia/canvas_1629257673.jpg', 'Russia/canvas_1629325565.jpg', 'Russia/canvas_1629439302.jpg', 'Russia/canvas_1629526819.jpg', 'Russia/canvas_1629668979.jpg', 'Russia/canvas_1629734419.jpg', 'Russia/canvas_1629789333.jpg', 'Russia/canvas_1629861697.jpg', 'Russia/canvas_1629940770.jpg', 'Russia/canvas_1630037715.jpg', 'Russia/canvas_1630091185.jpg', 'Russia/canvas_1630220263.jpg', 'San Marino/canvas_1629431594.jpg', 'Senegal/canvas_1629301401.jpg', 'Serbia/canvas_1629846911.jpg', 'Singapore/canvas_1629259296.jpg', 'Singapore/canvas_1629504386.jpg', 'Singapore/canvas_1629746495.jpg', 'Singapore/canvas_1629938283.jpg', 'Singapore/canvas_1630092188.jpg', 'Slovakia/canvas_1629266516.jpg', 'Slovenia/canvas_1629306224.jpg', 'South Africa/canvas_1629258099.jpg', 'South Africa/canvas_1629397019.jpg', 'South Africa/canvas_1629522991.jpg', 'South Africa/canvas_1629698182.jpg', 'South Africa/canvas_1629786789.jpg', 'South Africa/canvas_1629919797.jpg', 'South Africa/canvas_1630046145.jpg', 'South Africa/canvas_1630120172.jpg', 'South Korea/canvas_1629258988.jpg', 'South Korea/canvas_1629898512.jpg', 'Spain/canvas_1629258803.jpg', 'Spain/canvas_1629400623.jpg', 'Spain/canvas_1629526038.jpg', 'Spain/canvas_1629706304.jpg', 'Spain/canvas_1629790350.jpg', 'Spain/canvas_1629932814.jpg', 'Spain/canvas_1630090432.jpg', 'Spain/canvas_1630283485.jpg', 'Sri Lanka/canvas_1629263748.jpg', 'Sweden/canvas_1629258684.jpg', 'Sweden/canvas_1629476995.jpg', 'Sweden/canvas_1629706790.jpg', 'Sweden/canvas_1629904812.jpg', 'Sweden/canvas_1630076570.jpg', 'Switzerland/canvas_1629262616.jpg', 'Switzerland/canvas_1630107631.jpg', 'Taiwan/canvas_1629257804.jpg', 'Taiwan/canvas_1629533756.jpg', 'Taiwan/canvas_1629845343.jpg', 'Taiwan/canvas_1630092249.jpg', 'Thailand/canvas_1629425391.jpg', 'Thailand/canvas_1629590572.jpg', 'Thailand/canvas_1629767912.jpg', 'Thailand/canvas_1629774123.jpg', 'Thailand/canvas_1629920280.jpg', 'Thailand/canvas_1630042962.jpg', 'Thailand/canvas_1630259630.jpg', 'Tunisia/canvas_1629264463.jpg', 'Turkey/canvas_1629260132.jpg', 'Turkey/canvas_1629788861.jpg', 'Uganda/canvas_1629904359.jpg', 'Ukraine/canvas_1629276105.jpg', 'United Arab Emirates/canvas_1629277122.jpg', 'United Kingdom/canvas_1629258165.jpg', 'United Kingdom/canvas_1629306591.jpg', 'United Kingdom/canvas_1629402199.jpg', 'United Kingdom/canvas_1629445236.jpg', 'United Kingdom/canvas_1629520906.jpg', 'United Kingdom/canvas_1629582138.jpg', 'United Kingdom/canvas_1629694622.jpg', 'United Kingdom/canvas_1629735534.jpg', 'United Kingdom/canvas_1629774253.jpg', 'United Kingdom/canvas_1629836043.jpg', 'United Kingdom/canvas_1629874115.jpg', 'United Kingdom/canvas_1629937586.jpg', 'United Kingdom/canvas_1630010642.jpg', 'United Kingdom/canvas_1630051867.jpg', 'United Kingdom/canvas_1630089156.jpg', 'United Kingdom/canvas_1630109292.jpg', 'United Kingdom/canvas_1630138276.jpg', 'United States/canvas_1629257729.jpg', 'United States/canvas_1629265099.jpg', 'United States/canvas_1629272390.jpg', 'United States/canvas_1629281027.jpg', 'United States/canvas_1629303899.jpg', 'United States/canvas_1629311761.jpg', 'United States/canvas_1629324572.jpg', 'United States/canvas_1629330535.jpg', 'United States/canvas_1629356365.jpg', 'United States/canvas_1629395722.jpg', 'United States/canvas_1629402431.jpg', 'United States/canvas_1629412574.jpg', 'United States/canvas_1629419612.jpg', 'United States/canvas_1629427789.jpg', 'United States/canvas_1629439192.jpg', 'United States/canvas_1629473582.jpg', 'United States/canvas_1629480574.jpg', 'United States/canvas_1629500552.jpg', 'United States/canvas_1629510628.jpg', 'United States/canvas_1629519448.jpg', 'United States/canvas_1629526950.jpg', 'United States/canvas_1629537237.jpg', 'United States/canvas_1629541459.jpg', 'United States/canvas_1629545174.jpg', 'United States/canvas_1629577872.jpg', 'United States/canvas_1629588639.jpg', 'United States/canvas_1629614215.jpg', 'United States/canvas_1629666985.jpg', 'United States/canvas_1629681341.jpg', 'United States/canvas_1629688937.jpg', 'United States/canvas_1629696953.jpg', 'United States/canvas_1629711302.jpg', 'United States/canvas_1629718716.jpg', 'United States/canvas_1629732389.jpg', 'United States/canvas_1629740666.jpg', 'United States/canvas_1629751042.jpg', 'United States/canvas_1629759172.jpg', 'United States/canvas_1629765538.jpg', 'United States/canvas_1629769714.jpg', 'United States/canvas_1629780803.jpg', 'United States/canvas_1629787396.jpg', 'United States/canvas_1629825417.jpg', 'United States/canvas_1629832570.jpg', 'United States/canvas_1629840391.jpg', 'United States/canvas_1629849150.jpg', 'United States/canvas_1629864731.jpg', 'United States/canvas_1629874224.jpg', 'United States/canvas_1629903160.jpg', 'United States/canvas_1629912326.jpg', 'United States/canvas_1629920019.jpg', 'United States/canvas_1629929374.jpg', 'United States/canvas_1629937223.jpg', 'United States/canvas_1629954502.jpg', 'United States/canvas_1629955418.jpg', 'United States/canvas_1629971923.jpg', 'United States/canvas_1629995658.jpg', 'United States/canvas_1630008920.jpg', 'United States/canvas_1630018541.jpg', 'United States/canvas_1630025958.jpg', 'United States/canvas_1630038874.jpg', 'United States/canvas_1629445842.jpg', 'United States/canvas_1629696456.jpg', 'United States/canvas_1629856492.jpg', 'United States/canvas_1630045683.jpg', 'United States/canvas_1630050786.jpg', 'United States/canvas_1630061081.jpg', 'United States/canvas_1630068314.jpg', 'United States/canvas_1630080413.jpg', 'United States/canvas_1630087415.jpg', 'United States/canvas_1630093788.jpg', 'United States/canvas_1630105163.jpg', 'United States/canvas_1630118270.jpg', 'United States/canvas_1630125515.jpg', 'United States/canvas_1630140272.jpg', 'United States/canvas_1630211033.jpg', 'United States/canvas_1630218375.jpg', 'United States/canvas_1630253562.jpg', 'United States/canvas_1630270774.jpg', 'United States/canvas_1630278581.jpg', 'United States/canvas_1630284672.jpg', 'United States/canvas_1630336280.jpg', 'Uruguay/canvas_1629849099.jpg', 'US Virgin Islands/canvas_1629752382.jpg', 'Vietnam/canvas_1629303414.jpg', 'Croatia/canvas_1629260859.jpg', 'Indonesia/canvas_1629260598.jpg', 'Indonesia/canvas_1629748099.jpg', 'Mexico/canvas_1629420106.jpg', 'Mexico/canvas_1629618032.jpg', 'Mexico/canvas_1629782539.jpg', 'Mexico/canvas_1629789067.jpg', 'Mexico/canvas_1629935053.jpg', 'Mexico/canvas_1630077398.jpg', 'Romania/canvas_1629259703.jpg', 'Romania/canvas_1629705526.jpg', 'Romania/canvas_1630102744.jpg']\n"
     ]
    }
   ],
   "source": [
    "filenames\n",
    "fn1 = list(map(lambda x: \"/\".join(x.split(\"/\")[2:]), filenames))\n",
    "print(fn1)"
   ]
  },
  {
   "cell_type": "code",
   "execution_count": 87,
   "outputs": [],
   "source": [
    "classes = {'American Samoa': 0, 'Palestine': 1, 'Sweden': 2, 'Guam': 3, 'Kenya': 4, 'Vietnam': 5, 'Chile': 6,\n",
    "           'Ireland': 7, 'Armenia': 8, 'Canada': 9, 'Ghana': 10, 'Tunisia': 11, 'Bhutan': 12, 'Colombia': 13,\n",
    "           'Philippines': 14, 'Belgium': 15, 'Greece': 16, 'Ukraine': 17, 'Tanzania': 18, 'Kyrgyzstan': 19,\n",
    "           'Slovakia': 20, 'Eswatini': 21, 'Serbia': 22, 'Paraguay': 23, 'Indonesia': 24, 'Spain': 25,\n",
    "           'Isle of Man': 26, 'China': 27, 'North Macedonia': 28, 'Curacao': 29, 'Ecuador': 30, 'Gibraltar': 31,\n",
    "           'Italy': 32, 'Lebanon': 33, 'Pitcairn Islands': 34, 'Puerto Rico': 35, 'Bolivia': 36, 'Nigeria': 37,\n",
    "           'Hong Kong': 38, 'South Sudan': 39, 'Uganda': 40, 'Iraq': 41, 'New Zealand': 42, 'Dominican Republic': 43,\n",
    "           'Estonia': 44, 'Greenland': 45, 'Luxembourg': 46, 'Senegal': 47, 'Mongolia': 48, 'India': 49, 'Pakistan': 50,\n",
    "           'United Arab Emirates': 51, 'Austria': 52, 'Singapore': 53, 'Nepal': 54, 'Cambodia': 55, 'Aland': 56,\n",
    "           'Svalbard and Jan Mayen': 57, 'Lithuania': 58, 'Mozambique': 59, 'Denmark': 60, 'Israel': 61,\n",
    "           'United Kingdom': 62, 'France': 63, 'Thailand': 64, 'Reunion': 65, 'Iceland': 66, 'Taiwan': 67, 'Jersey': 68,\n",
    "           'Andorra': 69, 'Faroe Islands': 70, 'Mexico': 71, 'Turkey': 72, 'Romania': 73, 'Japan': 74, 'Myanmar': 75,\n",
    "           'South Korea': 76, 'Laos': 77, 'Portugal': 78, 'Slovenia': 79, 'US Virgin Islands': 80, 'Martinique': 81,\n",
    "           'Madagascar': 82, 'Switzerland': 83, 'Czechia': 84, 'Croatia': 85, 'Jordan': 86, 'Venezuela': 87,\n",
    "           'Australia': 88, 'Bulgaria': 89, 'Bangladesh': 90, 'San Marino': 91, 'Macao': 92, 'Latvia': 93, 'Peru': 94,\n",
    "           'United States': 95, 'Argentina': 96, 'Lesotho': 97, 'Malta': 98, 'Poland': 99, 'Hungary': 100,\n",
    "           'Malaysia': 101, 'Guatemala': 102, 'Montenegro': 103, 'Botswana': 104, 'Netherlands': 105, 'Sri Lanka': 106,\n",
    "           'Bermuda': 107, 'Belarus': 108, 'Russia': 109, 'Brazil': 110, 'Antarctica': 111, 'Costa Rica': 112,\n",
    "           'Finland': 113, 'Norway': 114, 'Qatar': 115, 'South Africa': 116, 'Monaco': 117, 'Germany': 118,\n",
    "           'Albania': 119, 'Uruguay': 120, 'Egypt': 121, 'Northern Mariana Islands': 122,\n",
    "           'South Georgia and South Sandwich Islands': 123}"
   ],
   "metadata": {
    "collapsed": false,
    "pycharm": {
     "name": "#%%\n"
    }
   }
  },
  {
   "cell_type": "code",
   "execution_count": null,
   "outputs": [],
   "source": [
    "numclasses = len(classes)"
   ],
   "metadata": {
    "collapsed": false,
    "pycharm": {
     "name": "#%%\n"
    }
   }
  },
  {
   "cell_type": "code",
   "execution_count": 106,
   "outputs": [
    {
     "name": "stdout",
     "output_type": "stream",
     "text": [
      "124\n"
     ]
    }
   ],
   "source": [
    "print(numclasses)"
   ],
   "metadata": {
    "collapsed": false,
    "pycharm": {
     "name": "#%%\n"
    }
   }
  },
  {
   "cell_type": "code",
   "execution_count": 89,
   "outputs": [
    {
     "name": "stdout",
     "output_type": "stream",
     "text": [
      "['American Samoa', 'Palestine', 'Sweden', 'Guam', 'Kenya', 'Vietnam', 'Chile', 'Ireland', 'Armenia', 'Canada', 'Ghana', 'Tunisia', 'Bhutan', 'Colombia', 'Philippines', 'Belgium', 'Greece', 'Ukraine', 'Tanzania', 'Kyrgyzstan', 'Slovakia', 'Eswatini', 'Serbia', 'Paraguay', 'Indonesia', 'Spain', 'Isle of Man', 'China', 'North Macedonia', 'Curacao', 'Ecuador', 'Gibraltar', 'Italy', 'Lebanon', 'Pitcairn Islands', 'Puerto Rico', 'Bolivia', 'Nigeria', 'Hong Kong', 'South Sudan', 'Uganda', 'Iraq', 'New Zealand', 'Dominican Republic', 'Estonia', 'Greenland', 'Luxembourg', 'Senegal', 'Mongolia', 'India', 'Pakistan', 'United Arab Emirates', 'Austria', 'Singapore', 'Nepal', 'Cambodia', 'Aland', 'Svalbard and Jan Mayen', 'Lithuania', 'Mozambique', 'Denmark', 'Israel', 'United Kingdom', 'France', 'Thailand', 'Reunion', 'Iceland', 'Taiwan', 'Jersey', 'Andorra', 'Faroe Islands', 'Mexico', 'Turkey', 'Romania', 'Japan', 'Myanmar', 'South Korea', 'Laos', 'Portugal', 'Slovenia', 'US Virgin Islands', 'Martinique', 'Madagascar', 'Switzerland', 'Czechia', 'Croatia', 'Jordan', 'Venezuela', 'Australia', 'Bulgaria', 'Bangladesh', 'San Marino', 'Macao', 'Latvia', 'Peru', 'United States', 'Argentina', 'Lesotho', 'Malta', 'Poland', 'Hungary', 'Malaysia', 'Guatemala', 'Montenegro', 'Botswana', 'Netherlands', 'Sri Lanka', 'Bermuda', 'Belarus', 'Russia', 'Brazil', 'Antarctica', 'Costa Rica', 'Finland', 'Norway', 'Qatar', 'South Africa', 'Monaco', 'Germany', 'Albania', 'Uruguay', 'Egypt', 'Northern Mariana Islands', 'South Georgia and South Sandwich Islands']\n"
     ]
    }
   ],
   "source": [
    "classes_sorted = [x[0] for x in sorted(classes.items(), key=lambda item: item[1])]\n",
    "print(classes_sorted)"
   ],
   "metadata": {
    "collapsed": false,
    "pycharm": {
     "name": "#%%\n"
    }
   }
  },
  {
   "cell_type": "code",
   "execution_count": 135,
   "outputs": [],
   "source": [
    "def get_country_class(y_pred : [float]):\n",
    "    max_index = np.argmax(y_pred, axis=0)\n",
    "\n",
    "    if isinstance(max_index, list):\n",
    "        if len(max_index) == 0:\n",
    "            return 0\n",
    "        else:\n",
    "            return max_index[0]\n",
    "\n",
    "    return max_index\n",
    "\n",
    "def get_country_name(index : int):\n",
    "    return classes_sorted[index]"
   ],
   "metadata": {
    "collapsed": false,
    "pycharm": {
     "name": "#%%\n"
    }
   }
  },
  {
   "cell_type": "code",
   "execution_count": 91,
   "id": "1d2b5dd9",
   "metadata": {
    "pycharm": {
     "name": "#%%\n"
    }
   },
   "outputs": [],
   "source": [
    "\n",
    "\n",
    "def readData(fileNames, dataDir):\n",
    "    '''\n",
    "    Takes a list of location folder names and ouputs a list of input image vectors and ouput categorical grid vector pairs.\n",
    "    fileNames should look like: 60+48.4271513,-110.5611851\n",
    "    '''\n",
    "    #     numClasses = self.model.layers[-1].output_shape[-1]\n",
    "    #     inputShape = self.model.layers[0].input_shape[2:4]\n",
    "    # load three images in a folder as arrays\n",
    "    X = np.array(list(map(lambda x: np.array(load_img(dataDir + x)), fileNames)))\n",
    "    # load grid numbers from folder names and convert them to categorical ouput vectors\n",
    "    y = tf.keras.utils.to_categorical(list(map(lambda x: classes[x.split(\"/\")[0]], fileNames)),\n",
    "                                      num_classes=numclasses)\n",
    "    return X, y\n",
    "\n",
    "\n",
    "def dataGen(fileNames, dataDir, batchSize=10, infinite=True):\n",
    "    '''\n",
    "    Takes a list of location folder names and ouputs\n",
    "    a list of input image vectors and ouput categorical grid vector pairs in batches.\n",
    "    The function is essentially used as a generator that calls readData in datches.\n",
    "    Inifinit: Tells the function to stop or keep going once the list of file names has been iterated through\n",
    "    fileNames should look like: 60+48.4271513,-110.5611851\n",
    "    '''\n",
    "    totalBatches = len(fileNames) / batchSize\n",
    "    counter = 0\n",
    "    while (True):\n",
    "        prev = batchSize * counter\n",
    "        nxt = batchSize * (counter + 1)\n",
    "        counter += 1\n",
    "        yield readData(fileNames[prev:nxt], dataDir)\n",
    "        if counter >= totalBatches:\n",
    "            if infinite:\n",
    "                counter = 0\n",
    "            else:\n",
    "                break"
   ]
  },
  {
   "cell_type": "code",
   "execution_count": 92,
   "id": "11946af9",
   "metadata": {
    "pycharm": {
     "name": "#%%\n"
    }
   },
   "outputs": [],
   "source": [
    "it = dataGen(fn1, directory)"
   ]
  },
  {
   "cell_type": "code",
   "execution_count": 93,
   "id": "48c52b32",
   "metadata": {
    "pycharm": {
     "name": "#%%\n"
    }
   },
   "outputs": [],
   "source": [
    "X, y = next(it)"
   ]
  },
  {
   "cell_type": "code",
   "execution_count": 94,
   "id": "767f7dae",
   "metadata": {
    "pycharm": {
     "name": "#%%\n"
    }
   },
   "outputs": [
    {
     "data": {
      "text/plain": "(10, 124)"
     },
     "execution_count": 94,
     "metadata": {},
     "output_type": "execute_result"
    }
   ],
   "source": [
    "outputShape = y.shape\n",
    "outputShape"
   ]
  },
  {
   "cell_type": "code",
   "execution_count": 95,
   "id": "413c5a54",
   "metadata": {
    "pycharm": {
     "name": "#%%\n"
    }
   },
   "outputs": [
    {
     "data": {
      "text/plain": "array([[0., 0., 0., ..., 0., 0., 0.],\n       [0., 0., 0., ..., 0., 0., 0.],\n       [1., 0., 0., ..., 0., 0., 0.],\n       ...,\n       [0., 0., 0., ..., 0., 0., 0.],\n       [0., 0., 0., ..., 0., 0., 0.],\n       [0., 0., 0., ..., 0., 0., 0.]], dtype=float32)"
     },
     "execution_count": 95,
     "metadata": {},
     "output_type": "execute_result"
    }
   ],
   "source": [
    "y"
   ]
  },
  {
   "cell_type": "code",
   "execution_count": 96,
   "id": "0f0cd504",
   "metadata": {
    "pycharm": {
     "name": "#%%\n"
    }
   },
   "outputs": [
    {
     "data": {
      "text/plain": "(1, 662, 1536, 3)"
     },
     "execution_count": 96,
     "metadata": {},
     "output_type": "execute_result"
    }
   ],
   "source": [
    "inputShape = X.shape\n",
    "inputShape = (1, *inputShape[1:])\n",
    "inputShape"
   ]
  },
  {
   "cell_type": "code",
   "execution_count": 97,
   "id": "47331dc8",
   "metadata": {
    "pycharm": {
     "name": "#%%\n"
    }
   },
   "outputs": [
    {
     "data": {
      "text/plain": "array([[[[194, 200, 212],\n         [194, 200, 212],\n         [194, 201, 211],\n         ...,\n         [159, 158, 156],\n         [159, 158, 156],\n         [159, 158, 156]],\n\n        [[192, 198, 210],\n         [192, 198, 210],\n         [192, 199, 209],\n         ...,\n         [159, 158, 156],\n         [159, 158, 156],\n         [159, 158, 156]],\n\n        [[190, 196, 208],\n         [191, 197, 209],\n         [192, 198, 210],\n         ...,\n         [159, 158, 156],\n         [159, 158, 156],\n         [159, 158, 156]],\n\n        ...,\n\n        [[107,  92,  89],\n         [107,  92,  89],\n         [106,  91,  88],\n         ...,\n         [ 42,  32,  33],\n         [ 43,  33,  34],\n         [ 43,  33,  34]],\n\n        [[106,  91,  88],\n         [105,  90,  87],\n         [104,  89,  86],\n         ...,\n         [ 35,  25,  26],\n         [ 36,  26,  27],\n         [ 37,  27,  28]],\n\n        [[105,  90,  87],\n         [103,  88,  85],\n         [102,  87,  84],\n         ...,\n         [ 72,  62,  63],\n         [ 73,  63,  64],\n         [ 74,  64,  65]]],\n\n\n       [[[113, 111,  63],\n         [114, 112,  64],\n         [115, 113,  65],\n         ...,\n         [120, 139, 171],\n         [120, 139, 171],\n         [120, 139, 171]],\n\n        [[114, 111,  66],\n         [116, 113,  68],\n         [117, 114,  69],\n         ...,\n         [120, 139, 171],\n         [120, 139, 171],\n         [120, 139, 171]],\n\n        [[110, 109,  65],\n         [113, 112,  68],\n         [117, 114,  71],\n         ...,\n         [120, 139, 171],\n         [120, 139, 171],\n         [120, 139, 171]],\n\n        ...,\n\n        [[193, 189, 180],\n         [183, 179, 170],\n         [177, 173, 164],\n         ...,\n         [ 28,  29,  11],\n         [ 28,  29,  13],\n         [ 28,  29,  13]],\n\n        [[203, 199, 190],\n         [198, 194, 185],\n         [194, 190, 181],\n         ...,\n         [ 21,  22,   4],\n         [ 18,  19,   1],\n         [ 16,  17,   0]],\n\n        [[214, 210, 201],\n         [207, 203, 194],\n         [200, 196, 187],\n         ...,\n         [ 57,  58,  40],\n         [ 51,  52,  34],\n         [ 48,  49,  31]]],\n\n\n       [[[106, 124, 148],\n         [106, 124, 148],\n         [106, 124, 148],\n         ...,\n         [208, 204, 205],\n         [208, 204, 205],\n         [208, 204, 205]],\n\n        [[106, 124, 148],\n         [106, 124, 148],\n         [106, 124, 148],\n         ...,\n         [208, 204, 205],\n         [208, 204, 205],\n         [208, 204, 205]],\n\n        [[106, 124, 148],\n         [106, 124, 148],\n         [106, 124, 148],\n         ...,\n         [208, 204, 205],\n         [208, 204, 205],\n         [208, 204, 205]],\n\n        ...,\n\n        [[ 78,  85, 103],\n         [ 78,  85, 103],\n         [ 79,  86, 104],\n         ...,\n         [ 41,  37,  34],\n         [ 40,  36,  33],\n         [ 39,  35,  32]],\n\n        [[ 80,  87, 105],\n         [ 84,  91, 109],\n         [ 90,  97, 115],\n         ...,\n         [ 36,  32,  29],\n         [ 33,  29,  26],\n         [ 32,  28,  25]],\n\n        [[ 84,  91, 109],\n         [ 93, 100, 118],\n         [107, 114, 132],\n         ...,\n         [ 77,  73,  70],\n         [ 73,  69,  66],\n         [ 71,  67,  64]]],\n\n\n       ...,\n\n\n       [[[191, 191, 193],\n         [191, 191, 193],\n         [191, 191, 193],\n         ...,\n         [181, 181, 183],\n         [181, 181, 183],\n         [181, 181, 183]],\n\n        [[191, 191, 193],\n         [191, 191, 193],\n         [191, 191, 193],\n         ...,\n         [181, 181, 183],\n         [181, 181, 183],\n         [181, 181, 183]],\n\n        [[191, 191, 193],\n         [191, 191, 193],\n         [191, 191, 193],\n         ...,\n         [181, 181, 183],\n         [181, 181, 183],\n         [181, 181, 183]],\n\n        ...,\n\n        [[143, 133, 124],\n         [144, 134, 125],\n         [144, 134, 125],\n         ...,\n         [ 33,  32,  30],\n         [ 33,  32,  30],\n         [ 33,  32,  30]],\n\n        [[148, 138, 129],\n         [148, 138, 129],\n         [148, 138, 129],\n         ...,\n         [ 27,  26,  24],\n         [ 27,  26,  24],\n         [ 27,  26,  24]],\n\n        [[146, 136, 127],\n         [146, 136, 127],\n         [145, 135, 126],\n         ...,\n         [ 64,  63,  61],\n         [ 64,  63,  61],\n         [ 63,  62,  60]]],\n\n\n       [[[127, 134, 144],\n         [129, 136, 146],\n         [134, 141, 151],\n         ...,\n         [132, 144, 168],\n         [132, 144, 168],\n         [132, 144, 168]],\n\n        [[141, 148, 158],\n         [142, 149, 159],\n         [146, 153, 163],\n         ...,\n         [132, 144, 168],\n         [132, 144, 168],\n         [132, 144, 168]],\n\n        [[151, 157, 169],\n         [152, 158, 170],\n         [155, 161, 173],\n         ...,\n         [132, 144, 168],\n         [132, 144, 168],\n         [132, 144, 168]],\n\n        ...,\n\n        [[146, 142,  78],\n         [146, 142,  78],\n         [146, 142,  78],\n         ...,\n         [ 42,  46,  21],\n         [ 41,  45,  22],\n         [ 39,  43,  18]],\n\n        [[147, 143,  79],\n         [148, 144,  80],\n         [148, 144,  80],\n         ...,\n         [ 37,  41,  14],\n         [ 36,  40,  15],\n         [ 34,  38,  11]],\n\n        [[146, 142,  78],\n         [147, 143,  79],\n         [148, 144,  80],\n         ...,\n         [ 77,  81,  54],\n         [ 76,  80,  53],\n         [ 74,  78,  51]]],\n\n\n       [[[127, 155, 177],\n         [127, 155, 177],\n         [127, 155, 177],\n         ...,\n         [115, 143, 167],\n         [115, 143, 167],\n         [115, 143, 167]],\n\n        [[127, 155, 177],\n         [127, 155, 177],\n         [127, 155, 177],\n         ...,\n         [115, 143, 167],\n         [115, 143, 167],\n         [115, 143, 167]],\n\n        [[127, 155, 177],\n         [127, 155, 177],\n         [127, 155, 177],\n         ...,\n         [115, 143, 167],\n         [115, 143, 167],\n         [115, 143, 167]],\n\n        ...,\n\n        [[143, 126,  98],\n         [144, 127,  99],\n         [146, 129, 101],\n         ...,\n         [ 38,  39,  33],\n         [ 37,  38,  32],\n         [ 36,  37,  31]],\n\n        [[133, 116,  88],\n         [133, 116,  88],\n         [133, 116,  88],\n         ...,\n         [ 35,  36,  30],\n         [ 33,  34,  28],\n         [ 32,  33,  27]],\n\n        [[131, 114,  86],\n         [129, 112,  84],\n         [128, 111,  83],\n         ...,\n         [ 77,  78,  72],\n         [ 74,  75,  69],\n         [ 72,  73,  67]]]], dtype=uint8)"
     },
     "execution_count": 97,
     "metadata": {},
     "output_type": "execute_result"
    }
   ],
   "source": [
    "X"
   ]
  },
  {
   "cell_type": "code",
   "execution_count": 154,
   "id": "ea4bb263",
   "metadata": {
    "pycharm": {
     "name": "#%%\n"
    }
   },
   "outputs": [
    {
     "data": {
      "text/plain": "<keras.engine.sequential.Sequential at 0x7fba7f2d3f40>"
     },
     "execution_count": 154,
     "metadata": {},
     "output_type": "execute_result"
    }
   ],
   "source": [
    "from tensorflow.keras.models import load_model\n",
    "\n",
    "model = load_model('models/model_0_30.h5')\n",
    "\n",
    "model"
   ]
  },
  {
   "cell_type": "code",
   "execution_count": 155,
   "id": "c30010ab",
   "metadata": {
    "scrolled": true,
    "pycharm": {
     "name": "#%%\n"
    }
   },
   "outputs": [
    {
     "name": "stdout",
     "output_type": "stream",
     "text": [
      "1/1 [==============================] - 2s 2s/step\n",
      "1/1 [==============================] - 2s 2s/step\n",
      "1/1 [==============================] - 2s 2s/step\n",
      "1/1 [==============================] - 2s 2s/step\n",
      "1/1 [==============================] - 2s 2s/step\n",
      "1/1 [==============================] - 2s 2s/step\n",
      "1/1 [==============================] - 2s 2s/step\n",
      "1/1 [==============================] - 2s 2s/step\n",
      "1/1 [==============================] - 2s 2s/step\n",
      "1/1 [==============================] - 1s 1s/step\n",
      "1/1 [==============================] - 2s 2s/step\n",
      "1/1 [==============================] - 1s 1s/step\n",
      "1/1 [==============================] - 1s 1s/step\n",
      "1/1 [==============================] - 1s 1s/step\n",
      "1/1 [==============================] - 1s 1s/step\n",
      "1/1 [==============================] - 1s 1s/step\n",
      "1/1 [==============================] - 1s 1s/step\n",
      "1/1 [==============================] - 1s 1s/step\n",
      "1/1 [==============================] - 1s 1s/step\n",
      "1/1 [==============================] - 1s 1s/step\n",
      "1/1 [==============================] - 1s 1s/step\n"
     ]
    }
   ],
   "source": [
    "y_pred = []\n",
    "y_true = []\n",
    "\n",
    "i = 0\n",
    "for X, y in dataGen(fn1, directory, batchSize=1, infinite=False):\n",
    "    yp = model.predict(X)\n",
    "    y_p_cl = get_country_class(yp[0])\n",
    "    y_pred.append(y_p_cl)\n",
    "\n",
    "    y_t_cl = get_country_class(y[0])\n",
    "    y_true.append(get_country_class(y[0]))\n",
    "\n",
    "    if i == 20:\n",
    "        break\n",
    "    else:\n",
    "        i += 1"
   ]
  },
  {
   "cell_type": "code",
   "execution_count": 156,
   "outputs": [
    {
     "name": "stdout",
     "output_type": "stream",
     "text": [
      "[109, 109, 109, 109, 109, 109, 109, 109, 109, 109, 109, 109, 109, 109, 109, 109, 109, 109, 109, 109, 109]\n",
      "Accuracy: 0.0\n",
      "F1 micro: 0.0\n",
      "F1 macro: 0.0\n"
     ]
    }
   ],
   "source": [
    "from sklearn.metrics import accuracy_score, f1_score\n",
    "\n",
    "sett = set()\n",
    "\n",
    "print(y_pred)\n",
    "\n",
    "for (y_t, y_p) in list(zip(y_true, y_pred)):\n",
    "\n",
    "    tup = (get_country_name(y_t), get_country_name(y_p))\n",
    "    if (y_p == 0):\n",
    "        tup[1] = None\n",
    "\n",
    "    if not (tup in sett):\n",
    "        sett.add(tup)\n",
    "\n",
    "accuracy = accuracy_score(y_true=y_true, y_pred=y_pred)\n",
    "print(\"Accuracy:\", accuracy)\n",
    "\n",
    "f1_micro = f1_score(y_true=y_true, y_pred=y_pred, average='micro')\n",
    "print(\"F1 micro:\", f1_micro)\n",
    "\n",
    "f1_macro = f1_score(y_true=y_true, y_pred=y_pred, average='macro')\n",
    "print(\"F1 macro:\", f1_macro)\n"
   ],
   "metadata": {
    "collapsed": false,
    "pycharm": {
     "name": "#%%\n"
    }
   }
  }
 ],
 "metadata": {
  "kernelspec": {
   "display_name": "Python 3 (ipykernel)",
   "language": "python",
   "name": "python3"
  },
  "language_info": {
   "codemirror_mode": {
    "name": "ipython",
    "version": 3
   },
   "file_extension": ".py",
   "mimetype": "text/x-python",
   "name": "python",
   "nbconvert_exporter": "python",
   "pygments_lexer": "ipython3",
   "version": "3.10.4"
  }
 },
 "nbformat": 4,
 "nbformat_minor": 5
}